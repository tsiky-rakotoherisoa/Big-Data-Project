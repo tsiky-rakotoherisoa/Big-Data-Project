{
 "cells": [
  {
   "cell_type": "markdown",
   "metadata": {},
   "source": [
    "# Tsiky Tafita RAKOTOHERISOA - Big Data Analytics"
   ]
  },
  {
   "cell_type": "markdown",
   "metadata": {},
   "source": [
    "### Useful packages "
   ]
  },
  {
   "cell_type": "code",
   "execution_count": 38,
   "metadata": {},
   "outputs": [],
   "source": [
    "from pyspark.sql.functions import col, substring\n",
    "import pandas as pd\n",
    "import numpy as np\n",
    "from pyspark.sql import SparkSession\n",
    "from pyspark.sql.functions import to_timestamp, col\n",
    "from pyspark.sql.functions import count\n",
    "from pyspark.sql.functions import to_date\n",
    "from pyspark.sql import functions as F\n",
    "from pyspark.sql import *\n",
    "from pyspark.sql.types import *\n",
    "import seaborn as sns\n",
    "import mob_data_utils as ut\n",
    "import matplotlib.pyplot as plt\n",
    "from pathlib import Path"
   ]
  },
  {
   "cell_type": "markdown",
   "metadata": {
    "id": "r0v9jdJ_25SM"
   },
   "source": [
    "### Path of the useful dataset"
   ]
  },
  {
   "cell_type": "markdown",
   "metadata": {},
   "source": [
    "These file and folder are located in the same folder as my notebook"
   ]
  },
  {
   "cell_type": "code",
   "execution_count": 39,
   "metadata": {
    "id": "9NaOKoWTM22D"
   },
   "outputs": [],
   "source": [
    "simulated_cdrs_data = \"simulated_cdrs\"\n",
    "simulated_locs_data = \"simulated_locs.csv\""
   ]
  },
  {
   "cell_type": "markdown",
   "metadata": {
    "id": "Fimw2n50Rmk7"
   },
   "source": [
    "## Task1: Data preprocessing and clean up"
   ]
  },
  {
   "cell_type": "markdown",
   "metadata": {},
   "source": [
    "Perfom all the necessary data processing including adding location and date related columns to the dataset. You need to create a function that spits out preprocessed data after taking in raw data in the folder."
   ]
  },
  {
   "cell_type": "code",
   "execution_count": 40,
   "metadata": {
    "id": "tg8sC31FOLle"
   },
   "outputs": [],
   "source": [
    "def preprocess_data(data, simulated_path):\n",
    "    \"\"\"\n",
    "    Preprocesses  (CDRs) data and simulated location data.\n",
    "\n",
    "    Parameters:\n",
    "    data (str): Path to the CSV file containing the CDRs data.\n",
    "    simulated_path (str): Path to the CSV file containing the simulated location data.\n",
    "\n",
    "    Returns:\n",
    "    pyspark.sql.DataFrame: A Spark DataFrame containing the preprocessed data.\n",
    "\n",
    "    Steps:\n",
    "    1. Create a SparkSession object.\n",
    "    2. Read the CSV data (CDRs) with Spark.\n",
    "    3. Repartition the DataFrame to speed up processing.\n",
    "    4. Rename columns for consistency.\n",
    "    5. Drop the 'cdrType' column as it is not needed.\n",
    "    6. Convert 'cdrDatetime' to a timestamp data type.\n",
    "    7. Drop the original 'cdrDatetime' column.\n",
    "    8. Read the location data using Pandas and convert it to a Spark DataFrame.\n",
    "    9. Merge the CDRs DataFrame with the location DataFrame on 'lastCallingCellid' and 'cell_id' columns.\n",
    "    10. Drop rows with null values in the 'cell_id' column.\n",
    "    11. Rename the 'cell_id' column to 'cellId'.\n",
    "    12. Drop the 'callDuration' column as it is not needed.\n",
    "    13. Return the final preprocessed DataFrame.\n",
    "    \"\"\"\n",
    "    # Create a SparkSession object\n",
    "    spark = SparkSession.builder.appName('preprocess_cdrs').getOrCreate()\n",
    "\n",
    "    # Step 1: Read the CSV data with Spark\n",
    "    df = spark.read.csv(data, header=True, inferSchema=True)\n",
    "\n",
    "    # repartition to speed up\n",
    "    df = df.repartition(100)\n",
    "\n",
    "    # Step 2: Rename columns\n",
    "    new_columns = [\"cdrType\", \"cdrDatetime\", \"callDuration\", \"lastCallingCellid\", \"user_id\"]\n",
    "    df = df.toDF(*new_columns)\n",
    "\n",
    "    # Step 3: Drop 'cdrType' column\n",
    "    df1 = df.drop(\"cdrType\")\n",
    "\n",
    "    # Step 4: Convert 'cdrDatetime' to timestamp\n",
    "    df2 = df1.withColumn(\"timestamp\", to_timestamp(col(\"cdrDatetime\").cast(\"string\"), \"yyyyMMddHHmmss\"))\n",
    "\n",
    "    # Step 5: Drop 'cdrDatetime' column\n",
    "    df3 = df2.drop(\"cdrDatetime\")\n",
    "\n",
    "    # Step 6: Read location data using Pandas and convert to Spark DataFrame\n",
    "    df_loc = pd.read_csv(simulated_path)\n",
    "    sdf_loc = spark.createDataFrame(df_loc)\n",
    "\n",
    "    # Step 7: Merge the DataFrames on 'lastCallingCellid' and 'cell_id'\n",
    "    merge_df = df3.join(sdf_loc, df3[\"lastCallingCellid\"] == sdf_loc[\"cell_id\"], how='left')\n",
    "\n",
    "    # Step 8: Drop rows with null values in 'cell_id'\n",
    "    df4 = merge_df.na.drop(subset=[\"cell_id\"])\n",
    "\n",
    "    # Step 9: Rename 'cell_id' to 'cellId'\n",
    "    df5 = df4.withColumnRenamed(\"cell_id\", \"cellId\")\n",
    "\n",
    "    # Step 10: Drop 'callDuration' column\n",
    "    df6 = df5.drop(\"callDuration\")\n",
    "\n",
    "    # Return the final DataFrame\n",
    "    return df6\n"
   ]
  },
  {
   "cell_type": "code",
   "execution_count": 41,
   "metadata": {
    "id": "OtH2JQdoQsXc"
   },
   "outputs": [
    {
     "name": "stderr",
     "output_type": "stream",
     "text": [
      "                                                                                \r"
     ]
    }
   ],
   "source": [
    "# call the function to get the clean data\n",
    "\n",
    "cleaned_df = preprocess_data(simulated_cdrs_data, simulated_locs_data)"
   ]
  },
  {
   "cell_type": "markdown",
   "metadata": {},
   "source": [
    "### Dataset cleaned in spark dataframe"
   ]
  },
  {
   "cell_type": "code",
   "execution_count": 5,
   "metadata": {
    "colab": {
     "base_uri": "https://localhost:8080/"
    },
    "id": "Q025Sykdrl5c",
    "outputId": "723a37b6-d1d3-42e2-e774-a64f3f75923d"
   },
   "outputs": [
    {
     "name": "stderr",
     "output_type": "stream",
     "text": [
      "[Stage 6:======================================================> (97 + 3) / 100]\r"
     ]
    },
    {
     "name": "stdout",
     "output_type": "stream",
     "text": [
      "+-----------------+-------------------+-------------------+-------+------+------------------+---------+\n",
      "|lastCallingCellid|            user_id|          timestamp|site_id|cellId|               lat|      lon|\n",
      "+-----------------+-------------------+-------------------+-------+------+------------------+---------+\n",
      "|          20893.0|6738184972994701163|2018-07-10 20:12:13|   S247| 20893|          -8.33183| 27.66598|\n",
      "|          34249.0|6686008883907508553|2018-07-10 20:16:38|     S4| 34249|-8.569560000000001|  26.8459|\n",
      "|          10338.0| 552905411444975143|2018-07-10 20:04:08|   S252| 10338|         -8.679244|26.938105|\n",
      "|          20503.0|6561053214775088540|2018-07-10 20:06:27|    S62| 20503|         -8.023515| 27.38724|\n",
      "|          10338.0|7458843081707054800|2018-07-10 20:17:23|   S252| 10338|         -8.679244|26.938105|\n",
      "|          20503.0|8180403142783011287|2018-07-10 20:42:07|    S62| 20503|         -8.023515| 27.38724|\n",
      "|          20893.0|3050647218048557132|2018-07-10 20:01:33|   S247| 20893|          -8.33183| 27.66598|\n",
      "|          20503.0|5708360319666920432|2018-07-10 20:18:53|    S62| 20503|         -8.023515| 27.38724|\n",
      "|          10338.0|3647578730469249349|2018-07-10 19:58:15|   S252| 10338|         -8.679244|26.938105|\n",
      "|          20503.0|3162614702562820538|2018-07-10 20:01:05|    S62| 20503|         -8.023515| 27.38724|\n",
      "|          34104.0|4581970616708894061|2018-07-10 20:44:17|   S188| 34104|-8.511330000000001|  26.7685|\n",
      "|          20893.0|6091524789690434947|2018-07-10 20:02:46|   S247| 20893|          -8.33183| 27.66598|\n",
      "|          10338.0|4875761467420809794|2018-07-10 08:51:07|   S252| 10338|         -8.679244|26.938105|\n",
      "|          10338.0|3991258278792396170|2018-07-11 20:47:22|   S252| 10338|         -8.679244|26.938105|\n",
      "|          10338.0|6183496313746776493|2018-07-10 20:28:35|   S252| 10338|         -8.679244|26.938105|\n",
      "|          10338.0|7285877906961715496|2018-07-11 20:40:21|   S252| 10338|         -8.679244|26.938105|\n",
      "|          10338.0| 832919002338551137|2018-07-10 20:31:30|   S252| 10338|         -8.679244|26.938105|\n",
      "|          20893.0|3267758739438648123|2018-07-10 20:29:07|   S247| 20893|          -8.33183| 27.66598|\n",
      "|          34249.0|5904800611648907413|2018-07-10 08:51:56|     S4| 34249|-8.569560000000001|  26.8459|\n",
      "|          20893.0|7009415269873520014|2018-07-10 20:20:19|   S247| 20893|          -8.33183| 27.66598|\n",
      "+-----------------+-------------------+-------------------+-------+------+------------------+---------+\n",
      "only showing top 20 rows\n",
      "\n"
     ]
    },
    {
     "name": "stderr",
     "output_type": "stream",
     "text": [
      "                                                                                \r"
     ]
    }
   ],
   "source": [
    "cleaned_df.show()"
   ]
  },
  {
   "cell_type": "markdown",
   "metadata": {},
   "source": [
    "### Length of all dataset"
   ]
  },
  {
   "cell_type": "code",
   "execution_count": 44,
   "metadata": {
    "colab": {
     "base_uri": "https://localhost:8080/"
    },
    "id": "RTTZ_XdptM98",
    "outputId": "f6cdde3a-8caa-442b-872e-117b9b201a3e"
   },
   "outputs": [
    {
     "name": "stderr",
     "output_type": "stream",
     "text": [
      "                                                                                \r"
     ]
    },
    {
     "data": {
      "text/plain": [
       "36749404"
      ]
     },
     "execution_count": 44,
     "metadata": {},
     "output_type": "execute_result"
    }
   ],
   "source": [
    "cleaned_df.count()"
   ]
  },
  {
   "cell_type": "markdown",
   "metadata": {},
   "source": [
    "### Cleaned data into csv file"
   ]
  },
  {
   "cell_type": "code",
   "execution_count": 7,
   "metadata": {
    "id": "vnrBW_11t1Pd"
   },
   "outputs": [
    {
     "name": "stderr",
     "output_type": "stream",
     "text": [
      "                                                                                \r"
     ]
    }
   ],
   "source": [
    "# Writing the clean data into csv file and put it in dataset.csv\n",
    "\n",
    "cleaned_df.coalesce(1).write.csv(\"dataset\", header=True, mode=\"overwrite\")"
   ]
  },
  {
   "cell_type": "code",
   "execution_count": 8,
   "metadata": {},
   "outputs": [],
   "source": [
    "cleaned_file = Path('dataset')\n",
    "csv_file_names = [file.name for file in cleaned_file.glob('*.csv')]"
   ]
  },
  {
   "cell_type": "code",
   "execution_count": 9,
   "metadata": {},
   "outputs": [
    {
     "data": {
      "text/plain": [
       "['part-00000-d1191bee-a8a2-45dd-9c2a-e7b54d244ea8-c000.csv']"
      ]
     },
     "execution_count": 9,
     "metadata": {},
     "output_type": "execute_result"
    }
   ],
   "source": [
    "csv_file_names"
   ]
  },
  {
   "cell_type": "code",
   "execution_count": 10,
   "metadata": {
    "id": "6b6QW5zXuXL7",
    "scrolled": true
   },
   "outputs": [],
   "source": [
    "# Read the dataset\n",
    "\n",
    "if csv_file_names:\n",
    "    cleaned_df_csv = pd.read_csv(f\"dataset/{csv_file_names[0]}\")"
   ]
  },
  {
   "cell_type": "markdown",
   "metadata": {
    "id": "G3_UHPMM2FQG"
   },
   "source": [
    "### Final dataset preprocessed in csv"
   ]
  },
  {
   "cell_type": "code",
   "execution_count": 11,
   "metadata": {
    "colab": {
     "base_uri": "https://localhost:8080/",
     "height": 226
    },
    "id": "_UnVWAC41bBX",
    "outputId": "19e53b3f-c324-41d4-9268-82be2c492389"
   },
   "outputs": [
    {
     "data": {
      "text/html": [
       "<div>\n",
       "<style scoped>\n",
       "    .dataframe tbody tr th:only-of-type {\n",
       "        vertical-align: middle;\n",
       "    }\n",
       "\n",
       "    .dataframe tbody tr th {\n",
       "        vertical-align: top;\n",
       "    }\n",
       "\n",
       "    .dataframe thead th {\n",
       "        text-align: right;\n",
       "    }\n",
       "</style>\n",
       "<table border=\"1\" class=\"dataframe\">\n",
       "  <thead>\n",
       "    <tr style=\"text-align: right;\">\n",
       "      <th></th>\n",
       "      <th>lastCallingCellid</th>\n",
       "      <th>user_id</th>\n",
       "      <th>timestamp</th>\n",
       "      <th>site_id</th>\n",
       "      <th>cellId</th>\n",
       "      <th>lat</th>\n",
       "      <th>lon</th>\n",
       "    </tr>\n",
       "  </thead>\n",
       "  <tbody>\n",
       "    <tr>\n",
       "      <th>0</th>\n",
       "      <td>20893.0</td>\n",
       "      <td>6738184972994701163</td>\n",
       "      <td>2018-07-10T20:12:13.000+02:00</td>\n",
       "      <td>S247</td>\n",
       "      <td>20893</td>\n",
       "      <td>-8.331830</td>\n",
       "      <td>27.665980</td>\n",
       "    </tr>\n",
       "    <tr>\n",
       "      <th>1</th>\n",
       "      <td>34249.0</td>\n",
       "      <td>6686008883907508553</td>\n",
       "      <td>2018-07-10T20:16:38.000+02:00</td>\n",
       "      <td>S4</td>\n",
       "      <td>34249</td>\n",
       "      <td>-8.569560</td>\n",
       "      <td>26.845900</td>\n",
       "    </tr>\n",
       "    <tr>\n",
       "      <th>2</th>\n",
       "      <td>10338.0</td>\n",
       "      <td>552905411444975143</td>\n",
       "      <td>2018-07-10T20:04:08.000+02:00</td>\n",
       "      <td>S252</td>\n",
       "      <td>10338</td>\n",
       "      <td>-8.679244</td>\n",
       "      <td>26.938105</td>\n",
       "    </tr>\n",
       "    <tr>\n",
       "      <th>3</th>\n",
       "      <td>20503.0</td>\n",
       "      <td>6561053214775088540</td>\n",
       "      <td>2018-07-10T20:06:27.000+02:00</td>\n",
       "      <td>S62</td>\n",
       "      <td>20503</td>\n",
       "      <td>-8.023515</td>\n",
       "      <td>27.387240</td>\n",
       "    </tr>\n",
       "    <tr>\n",
       "      <th>4</th>\n",
       "      <td>10338.0</td>\n",
       "      <td>7458843081707054800</td>\n",
       "      <td>2018-07-10T20:17:23.000+02:00</td>\n",
       "      <td>S252</td>\n",
       "      <td>10338</td>\n",
       "      <td>-8.679244</td>\n",
       "      <td>26.938105</td>\n",
       "    </tr>\n",
       "  </tbody>\n",
       "</table>\n",
       "</div>"
      ],
      "text/plain": [
       "   lastCallingCellid              user_id                      timestamp  \\\n",
       "0            20893.0  6738184972994701163  2018-07-10T20:12:13.000+02:00   \n",
       "1            34249.0  6686008883907508553  2018-07-10T20:16:38.000+02:00   \n",
       "2            10338.0   552905411444975143  2018-07-10T20:04:08.000+02:00   \n",
       "3            20503.0  6561053214775088540  2018-07-10T20:06:27.000+02:00   \n",
       "4            10338.0  7458843081707054800  2018-07-10T20:17:23.000+02:00   \n",
       "\n",
       "  site_id  cellId       lat        lon  \n",
       "0    S247   20893 -8.331830  27.665980  \n",
       "1      S4   34249 -8.569560  26.845900  \n",
       "2    S252   10338 -8.679244  26.938105  \n",
       "3     S62   20503 -8.023515  27.387240  \n",
       "4    S252   10338 -8.679244  26.938105  "
      ]
     },
     "execution_count": 11,
     "metadata": {},
     "output_type": "execute_result"
    }
   ],
   "source": [
    "cleaned_df_csv.head()"
   ]
  },
  {
   "cell_type": "markdown",
   "metadata": {
    "id": "pAzoEK-SRu06"
   },
   "source": [
    "## Task2: Perform Data exploration  to generate the following statistics and tables."
   ]
  },
  {
   "cell_type": "markdown",
   "metadata": {},
   "source": [
    "#### Creating sample from the spark dataframe preprocessed"
   ]
  },
  {
   "cell_type": "code",
   "execution_count": 12,
   "metadata": {},
   "outputs": [],
   "source": [
    "cleaned_sample_df = cleaned_df.sample(withReplacement=False, fraction=0.05)"
   ]
  },
  {
   "cell_type": "code",
   "execution_count": 14,
   "metadata": {},
   "outputs": [
    {
     "name": "stderr",
     "output_type": "stream",
     "text": [
      "[Stage 42:====================================================>   (16 + 1) / 17]\r"
     ]
    },
    {
     "name": "stdout",
     "output_type": "stream",
     "text": [
      "Length of the sample: 1838027\n"
     ]
    },
    {
     "name": "stderr",
     "output_type": "stream",
     "text": [
      "                                                                                \r"
     ]
    }
   ],
   "source": [
    "print(f\"Length of the sample: {cleaned_sample_df.count()}\")"
   ]
  },
  {
   "cell_type": "markdown",
   "metadata": {
    "id": "SOgJ1uBkZLVJ"
   },
   "source": [
    "### 1. Total number of days in the dataset"
   ]
  },
  {
   "cell_type": "code",
   "execution_count": 15,
   "metadata": {
    "colab": {
     "base_uri": "https://localhost:8080/"
    },
    "id": "iUshoOg8Takv",
    "outputId": "9c9f1722-dd28-4d53-fea4-ef828e027078"
   },
   "outputs": [
    {
     "name": "stderr",
     "output_type": "stream",
     "text": [
      "[Stage 55:====================================================>   (16 + 1) / 17]\r"
     ]
    },
    {
     "name": "stdout",
     "output_type": "stream",
     "text": [
      "Total number of days: 15\n"
     ]
    },
    {
     "name": "stderr",
     "output_type": "stream",
     "text": [
      "                                                                                \r"
     ]
    }
   ],
   "source": [
    "df_with_date = cleaned_df.withColumn(\"date\", to_date(col(\"timestamp\")))\n",
    "total_days = df_with_date.select(\"date\").distinct().count()\n",
    "print(f\"Total number of days: {total_days}\")"
   ]
  },
  {
   "cell_type": "markdown",
   "metadata": {
    "id": "YZTBnkxyaPcj"
   },
   "source": [
    "### 2. Mean and median  number of calls per user"
   ]
  },
  {
   "cell_type": "code",
   "execution_count": 18,
   "metadata": {
    "id": "VWgiTJU5ClW1"
   },
   "outputs": [],
   "source": [
    "def summary_stats_for_user_events(spark_df, out_stats):\n",
    "    \"\"\"\n",
    "    In this function, the goal is to take a big Spark\n",
    "    DataFrame, group users and count each users events,\n",
    "    convert to pandas DataFrame and generate summary stats\n",
    "    :param: spark_df: preprocessed spark dataframe with data for multiple users\n",
    "    :param: out_stats: CSV file path to save  the summary stats\n",
    "    \"\"\"\n",
    "    # group user and count number of events\n",
    "    # convert resulting spark dataframe to pandas\n",
    "    pdf = spark_df.groupBy('user_id').count().toPandas()\n",
    "\n",
    "    # change column \"count\" to num_events, remember that pdf is a pandas DataFrame\n",
    "    pdf.rename(columns={\"count\": \"num_events\"}, inplace=True)\n",
    "\n",
    "    # generate summary stats using pandas describe() function\n",
    "    # use property T to transpose the describe results and convert them\n",
    "    # into a DataFrame like this: pd.DataFrame(transposed describe results).reset_index()\n",
    "    pdf_sum_stats = pd.DataFrame(pdf[\"num_events\"].describe().T).reset_index()\n",
    "\n",
    "    # remove the first row which has value \"count\"\n",
    "    # you can use list indexing to achieve this\n",
    "    pdf_sum_stats = pdf_sum_stats[1:]\n",
    "\n",
    "    # Rename the column index into something informative. For instance, \"Stat\"\n",
    "    pdf_sum_stats.rename(columns={\"index\": \"Stat\"}, inplace=True)\n",
    "\n",
    "    # Rename the percentiles in numbers to something better\n",
    "    # first, declare a dict with old and new names\n",
    "    percentiles_rename = {\n",
    "        \"25%\": \"25th Percentile\",\n",
    "        \"50%\": \"Median\",\n",
    "        \"75%\": \"75th Percentile\"\n",
    "    }\n",
    "    # next, update the Stats column using the pd.Series.map() function\n",
    "    pdf_sum_stats[\"Stat\"] = pdf_sum_stats[\"Stat\"].map(percentiles_rename).fillna(pdf_sum_stats[\"Stat\"])\n",
    "\n",
    "    print(\"=\"*40)\n",
    "    print(\"This is the summary statistics table of the sample dataset.\")\n",
    "    print(\"=\"*40)\n",
    "    print()\n",
    "    # please print the table below\n",
    "    print(pdf_sum_stats)\n",
    "\n",
    "    # Now save the summary stats to CSV\n",
    "    pdf_sum_stats.to_csv(out_stats, index=False)\n"
   ]
  },
  {
   "cell_type": "code",
   "execution_count": 19,
   "metadata": {
    "colab": {
     "base_uri": "https://localhost:8080/"
    },
    "id": "adKE2t96utM6",
    "outputId": "ae5f5630-03ea-41d5-c36a-82434001d372"
   },
   "outputs": [
    {
     "name": "stderr",
     "output_type": "stream",
     "text": [
      "                                                                                \r"
     ]
    },
    {
     "name": "stdout",
     "output_type": "stream",
     "text": [
      "========================================\n",
      "This is the summary statistics table of the sample dataset.\n",
      "========================================\n",
      "\n",
      "              Stat   num_events\n",
      "1             mean     2.331750\n",
      "2              std     3.078278\n",
      "3              min     1.000000\n",
      "4  25th Percentile     1.000000\n",
      "5           Median     1.000000\n",
      "6  75th Percentile     3.000000\n",
      "7              max  1055.000000\n"
     ]
    }
   ],
   "source": [
    "result_statistics = \"result_statistics.csv\"\n",
    "summary_stats_for_user_events(cleaned_sample_df, result_statistics)"
   ]
  },
  {
   "cell_type": "markdown",
   "metadata": {},
   "source": [
    "I use the sample dataset for the summary statistics because of the issues: out of memories, I use 5% of the cleaned dataset."
   ]
  },
  {
   "cell_type": "markdown",
   "metadata": {
    "id": "vyjG2A52zcEP"
   },
   "source": [
    "## Task3: User Mobility patterns"
   ]
  },
  {
   "cell_type": "markdown",
   "metadata": {
    "id": "yN7pZ5tuzm1L"
   },
   "source": [
    "### 1- Create and run function to create individual user mobility attributes (e.g., number of location visited per day). This function can return a function where each row is single user and columns include user_id,"
   ]
  },
  {
   "cell_type": "markdown",
   "metadata": {},
   "source": [
    "#### Adding date column to the dataset in order to facilitate to extract date"
   ]
  },
  {
   "cell_type": "code",
   "execution_count": 20,
   "metadata": {},
   "outputs": [],
   "source": [
    "# Adding date column to the dataset in order to facilitate to extract date\n",
    "\n",
    "cleaned_df_csv['timestamp'] = pd.to_datetime(cleaned_df_csv['timestamp'])\n",
    "cleaned_df_csv['date'] = cleaned_df_csv['timestamp'].dt.date  # Extracting only the date part"
   ]
  },
  {
   "cell_type": "markdown",
   "metadata": {},
   "source": [
    "#### Function that generate basic user attributes "
   ]
  },
  {
   "cell_type": "code",
   "execution_count": 28,
   "metadata": {},
   "outputs": [],
   "source": [
    "def get_basic_user_mob_attribute(df):\n",
    "    \"\"\"\n",
    "    This function generates basic user attributes to help explore the data and report on individual mobility metrics.\n",
    "    :param df: Pandas DataFrame of single user data\n",
    "    :return: Pandas DataFrame with columns ['date', 'unique_locs', 'max_distance']\n",
    "    \"\"\"\n",
    "\n",
    "    # Column names\n",
    "    datetimecol = 'timestamp'  # Column that contains timestamp information\n",
    "    x = 'lon'  # Longitude column\n",
    "    y = 'lat'  # Latitude column\n",
    "\n",
    "    # Get a list of unique dates in ascending order\n",
    "    dates = sorted(df['date'].unique())\n",
    "\n",
    "    # Initialize an empty list to store processed results\n",
    "    user_metrics = []\n",
    "    unique_locs_count = []\n",
    "\n",
    "    # Loop through each date to compute the required statistics\n",
    "    for date in dates:\n",
    "        # Filter the data for the current date\n",
    "        dfd = df[df['date'] == date]\n",
    "\n",
    "        # Get number of unique locations for this day using utility function\n",
    "        uniq_xy = ut.va_generate_unique_locs(df=dfd, x=x, y=y)\n",
    "        unique_locs_count = len(uniq_xy)\n",
    "\n",
    "        # Calculate distances if there are more than one unique location\n",
    "        if unique_locs_count > 1:\n",
    "            # Generate the distance matrix for unique locations\n",
    "            dist_mtx = ut.va_distance_matrix(uniq_xy)\n",
    "            \n",
    "            # Get the required columns that have 'to' in their name\n",
    "            req_cols = [col for col in dist_mtx.columns if 'to' in col]\n",
    "            \n",
    "            # Find the maximum distance\n",
    "            max_distance = np.max(dist_mtx[req_cols].values)\n",
    "        else:\n",
    "            max_distance = 0\n",
    "\n",
    "        # Append the results to the list\n",
    "        user_metrics.append({\n",
    "            'date': date,\n",
    "            'unique_locs': unique_locs_count,\n",
    "            'max_distance': max_distance\n",
    "        })\n",
    "\n",
    "    # Convert the results list to a DataFrame\n",
    "    user_metrics_df = pd.DataFrame(user_metrics)\n",
    "\n",
    "    # Calculate aggregate values\n",
    "    mean_max_distance = user_metrics_df['max_distance'].mean()\n",
    "    mean_locs_per_day = user_metrics_df['unique_locs'].mean()\n",
    "    num_of_days = len(dates)\n",
    "\n",
    "\n",
    "    return {\n",
    "        'date': num_of_days,\n",
    "        'unique_locs': mean_locs_per_day,\n",
    "        'max_distance': mean_max_distance\n",
    "    }\n"
   ]
  },
  {
   "cell_type": "code",
   "execution_count": 29,
   "metadata": {},
   "outputs": [],
   "source": [
    "def generate_basic_user_attributes_with_pandas(df, num_events_threshold=None):\n",
    "    \"\"\"\n",
    "    Generate basic user mobility attributes to help further explore the data and \n",
    "    report on individual mobility metrics.\n",
    "\n",
    "    :param df: Pandas DataFrame with multiple user data.\n",
    "    :param outcsv: (optional) File path to save the output CSV.\n",
    "    :param num_events_threshold: (optional) Minimum number of events required for a user.\n",
    "    :return: Pandas DataFrame with user mobility attributes.\n",
    "    \"\"\"\n",
    "    userid_col = 'user_id'\n",
    "    \n",
    "    # Get unique user IDs\n",
    "    unique_user_ids_list = df[userid_col].unique()\n",
    "    \n",
    "    # Initialize an empty list to store user attributes\n",
    "    user_data = []\n",
    "\n",
    "    for user in unique_user_ids_list:\n",
    "        df_user = df[df[userid_col] == user]\n",
    "\n",
    "        # Apply threshold if specified\n",
    "        if num_events_threshold and df_user.shape[0] < num_events_threshold:\n",
    "            continue\n",
    "\n",
    "        # Extract mobility attributes for the user\n",
    "        results = get_basic_user_mob_attribute(df_user)\n",
    "\n",
    "        # Append the processed user data to the list\n",
    "        user_data.append({\n",
    "            'user_id': user,\n",
    "            'avg_Rg': results['max_distance'],\n",
    "            'avg_locs_per_day': results['unique_locs'],\n",
    "            'total_days': results['date']\n",
    "        })\n",
    "\n",
    "    # Convert the list of user data to a Pandas DataFrame\n",
    "    result_df = pd.DataFrame(user_data)\n",
    "\n",
    "    # Print the first 10 rows of the DataFrame\n",
    "    print(\"=\" * 40)\n",
    "    print(\"This is the top 10 rows of the DataFrame.\")\n",
    "    print(\"=\" * 40)\n",
    "    print(result_df.head(10))\n",
    "\n",
    "    return result_df\n"
   ]
  },
  {
   "cell_type": "markdown",
   "metadata": {},
   "source": [
    "### Creating sample from dataset cleaned "
   ]
  },
  {
   "cell_type": "code",
   "execution_count": 23,
   "metadata": {},
   "outputs": [],
   "source": [
    "cleaned_df_csv_sample = cleaned_df_csv.sample(n=50000)"
   ]
  },
  {
   "cell_type": "code",
   "execution_count": 24,
   "metadata": {},
   "outputs": [
    {
     "data": {
      "text/html": [
       "<div>\n",
       "<style scoped>\n",
       "    .dataframe tbody tr th:only-of-type {\n",
       "        vertical-align: middle;\n",
       "    }\n",
       "\n",
       "    .dataframe tbody tr th {\n",
       "        vertical-align: top;\n",
       "    }\n",
       "\n",
       "    .dataframe thead th {\n",
       "        text-align: right;\n",
       "    }\n",
       "</style>\n",
       "<table border=\"1\" class=\"dataframe\">\n",
       "  <thead>\n",
       "    <tr style=\"text-align: right;\">\n",
       "      <th></th>\n",
       "      <th>lastCallingCellid</th>\n",
       "      <th>user_id</th>\n",
       "      <th>timestamp</th>\n",
       "      <th>site_id</th>\n",
       "      <th>cellId</th>\n",
       "      <th>lat</th>\n",
       "      <th>lon</th>\n",
       "      <th>date</th>\n",
       "    </tr>\n",
       "  </thead>\n",
       "  <tbody>\n",
       "    <tr>\n",
       "      <th>22488905</th>\n",
       "      <td>12177.0</td>\n",
       "      <td>2522812212399458627</td>\n",
       "      <td>2018-07-04 07:51:17+02:00</td>\n",
       "      <td>S37</td>\n",
       "      <td>12177</td>\n",
       "      <td>-8.560890</td>\n",
       "      <td>26.835400</td>\n",
       "      <td>2018-07-04</td>\n",
       "    </tr>\n",
       "    <tr>\n",
       "      <th>26017011</th>\n",
       "      <td>22193.0</td>\n",
       "      <td>8673656195306724057</td>\n",
       "      <td>2018-07-02 19:56:03+02:00</td>\n",
       "      <td>S208</td>\n",
       "      <td>22193</td>\n",
       "      <td>-9.059104</td>\n",
       "      <td>28.273943</td>\n",
       "      <td>2018-07-02</td>\n",
       "    </tr>\n",
       "    <tr>\n",
       "      <th>11157014</th>\n",
       "      <td>22192.0</td>\n",
       "      <td>2355738967524394466</td>\n",
       "      <td>2018-07-12 21:01:29+02:00</td>\n",
       "      <td>S208</td>\n",
       "      <td>22192</td>\n",
       "      <td>-9.059104</td>\n",
       "      <td>28.273943</td>\n",
       "      <td>2018-07-12</td>\n",
       "    </tr>\n",
       "    <tr>\n",
       "      <th>30113717</th>\n",
       "      <td>20542.0</td>\n",
       "      <td>1584470840993424070</td>\n",
       "      <td>2018-07-02 07:43:01+02:00</td>\n",
       "      <td>S211</td>\n",
       "      <td>20542</td>\n",
       "      <td>-8.124386</td>\n",
       "      <td>27.961957</td>\n",
       "      <td>2018-07-02</td>\n",
       "    </tr>\n",
       "    <tr>\n",
       "      <th>21628186</th>\n",
       "      <td>14332.0</td>\n",
       "      <td>7339108761226147574</td>\n",
       "      <td>2018-07-02 18:54:14+02:00</td>\n",
       "      <td>S221</td>\n",
       "      <td>14332</td>\n",
       "      <td>-8.537976</td>\n",
       "      <td>26.730825</td>\n",
       "      <td>2018-07-02</td>\n",
       "    </tr>\n",
       "  </tbody>\n",
       "</table>\n",
       "</div>"
      ],
      "text/plain": [
       "          lastCallingCellid              user_id                 timestamp  \\\n",
       "22488905            12177.0  2522812212399458627 2018-07-04 07:51:17+02:00   \n",
       "26017011            22193.0  8673656195306724057 2018-07-02 19:56:03+02:00   \n",
       "11157014            22192.0  2355738967524394466 2018-07-12 21:01:29+02:00   \n",
       "30113717            20542.0  1584470840993424070 2018-07-02 07:43:01+02:00   \n",
       "21628186            14332.0  7339108761226147574 2018-07-02 18:54:14+02:00   \n",
       "\n",
       "         site_id  cellId       lat        lon        date  \n",
       "22488905     S37   12177 -8.560890  26.835400  2018-07-04  \n",
       "26017011    S208   22193 -9.059104  28.273943  2018-07-02  \n",
       "11157014    S208   22192 -9.059104  28.273943  2018-07-12  \n",
       "30113717    S211   20542 -8.124386  27.961957  2018-07-02  \n",
       "21628186    S221   14332 -8.537976  26.730825  2018-07-02  "
      ]
     },
     "execution_count": 24,
     "metadata": {},
     "output_type": "execute_result"
    }
   ],
   "source": [
    "cleaned_df_csv_sample.head()"
   ]
  },
  {
   "cell_type": "code",
   "execution_count": 30,
   "metadata": {},
   "outputs": [
    {
     "name": "stdout",
     "output_type": "stream",
     "text": [
      "========================================\n",
      "This is the top 10 rows of the DataFrame.\n",
      "========================================\n",
      "               user_id  avg_Rg  avg_locs_per_day  total_days\n",
      "0  2522812212399458627     0.0               1.0           1\n",
      "1  8673656195306724057     0.0               1.0           1\n",
      "2  2355738967524394466     0.0               1.0           1\n",
      "3  1584470840993424070     0.0               1.0           1\n",
      "4  7339108761226147574     0.0               1.0           1\n",
      "5  3228276075531602480     0.0               1.0           1\n",
      "6  8827334164821636524     0.0               1.0           1\n",
      "7  6782920914927242685     0.0               1.0           1\n",
      "8  1699884572966267714     0.0               1.0           2\n",
      "9  1627646416900432556     0.0               1.0           1\n"
     ]
    }
   ],
   "source": [
    "dataframe = pd.DataFrame(generate_basic_user_attributes_with_pandas(cleaned_df_csv_sample))"
   ]
  },
  {
   "cell_type": "markdown",
   "metadata": {},
   "source": [
    "### 2- Save the user attributes as a CSV file"
   ]
  },
  {
   "cell_type": "code",
   "execution_count": 31,
   "metadata": {},
   "outputs": [],
   "source": [
    "dataframe.to_csv('user_attribute.csv', index=False, header=True)"
   ]
  },
  {
   "cell_type": "code",
   "execution_count": 32,
   "metadata": {},
   "outputs": [
    {
     "data": {
      "text/html": [
       "<div>\n",
       "<style scoped>\n",
       "    .dataframe tbody tr th:only-of-type {\n",
       "        vertical-align: middle;\n",
       "    }\n",
       "\n",
       "    .dataframe tbody tr th {\n",
       "        vertical-align: top;\n",
       "    }\n",
       "\n",
       "    .dataframe thead th {\n",
       "        text-align: right;\n",
       "    }\n",
       "</style>\n",
       "<table border=\"1\" class=\"dataframe\">\n",
       "  <thead>\n",
       "    <tr style=\"text-align: right;\">\n",
       "      <th></th>\n",
       "      <th>user_id</th>\n",
       "      <th>avg_Rg</th>\n",
       "      <th>avg_locs_per_day</th>\n",
       "      <th>total_days</th>\n",
       "    </tr>\n",
       "  </thead>\n",
       "  <tbody>\n",
       "    <tr>\n",
       "      <th>0</th>\n",
       "      <td>2522812212399458627</td>\n",
       "      <td>0.0</td>\n",
       "      <td>1.0</td>\n",
       "      <td>1</td>\n",
       "    </tr>\n",
       "    <tr>\n",
       "      <th>1</th>\n",
       "      <td>8673656195306724057</td>\n",
       "      <td>0.0</td>\n",
       "      <td>1.0</td>\n",
       "      <td>1</td>\n",
       "    </tr>\n",
       "    <tr>\n",
       "      <th>2</th>\n",
       "      <td>2355738967524394466</td>\n",
       "      <td>0.0</td>\n",
       "      <td>1.0</td>\n",
       "      <td>1</td>\n",
       "    </tr>\n",
       "    <tr>\n",
       "      <th>3</th>\n",
       "      <td>1584470840993424070</td>\n",
       "      <td>0.0</td>\n",
       "      <td>1.0</td>\n",
       "      <td>1</td>\n",
       "    </tr>\n",
       "    <tr>\n",
       "      <th>4</th>\n",
       "      <td>7339108761226147574</td>\n",
       "      <td>0.0</td>\n",
       "      <td>1.0</td>\n",
       "      <td>1</td>\n",
       "    </tr>\n",
       "    <tr>\n",
       "      <th>...</th>\n",
       "      <td>...</td>\n",
       "      <td>...</td>\n",
       "      <td>...</td>\n",
       "      <td>...</td>\n",
       "    </tr>\n",
       "    <tr>\n",
       "      <th>47477</th>\n",
       "      <td>1653083404939399082</td>\n",
       "      <td>0.0</td>\n",
       "      <td>1.0</td>\n",
       "      <td>1</td>\n",
       "    </tr>\n",
       "    <tr>\n",
       "      <th>47478</th>\n",
       "      <td>6268601110514198932</td>\n",
       "      <td>0.0</td>\n",
       "      <td>1.0</td>\n",
       "      <td>1</td>\n",
       "    </tr>\n",
       "    <tr>\n",
       "      <th>47479</th>\n",
       "      <td>5154788556232348631</td>\n",
       "      <td>0.0</td>\n",
       "      <td>1.0</td>\n",
       "      <td>1</td>\n",
       "    </tr>\n",
       "    <tr>\n",
       "      <th>47480</th>\n",
       "      <td>5752307768364585472</td>\n",
       "      <td>0.0</td>\n",
       "      <td>1.0</td>\n",
       "      <td>1</td>\n",
       "    </tr>\n",
       "    <tr>\n",
       "      <th>47481</th>\n",
       "      <td>4809160135988223092</td>\n",
       "      <td>0.0</td>\n",
       "      <td>1.0</td>\n",
       "      <td>1</td>\n",
       "    </tr>\n",
       "  </tbody>\n",
       "</table>\n",
       "<p>47482 rows × 4 columns</p>\n",
       "</div>"
      ],
      "text/plain": [
       "                   user_id  avg_Rg  avg_locs_per_day  total_days\n",
       "0      2522812212399458627     0.0               1.0           1\n",
       "1      8673656195306724057     0.0               1.0           1\n",
       "2      2355738967524394466     0.0               1.0           1\n",
       "3      1584470840993424070     0.0               1.0           1\n",
       "4      7339108761226147574     0.0               1.0           1\n",
       "...                    ...     ...               ...         ...\n",
       "47477  1653083404939399082     0.0               1.0           1\n",
       "47478  6268601110514198932     0.0               1.0           1\n",
       "47479  5154788556232348631     0.0               1.0           1\n",
       "47480  5752307768364585472     0.0               1.0           1\n",
       "47481  4809160135988223092     0.0               1.0           1\n",
       "\n",
       "[47482 rows x 4 columns]"
      ]
     },
     "execution_count": 32,
     "metadata": {},
     "output_type": "execute_result"
    }
   ],
   "source": [
    "user_att = pd.read_csv(\"user_attribute.csv\")\n",
    "user_att"
   ]
  },
  {
   "cell_type": "markdown",
   "metadata": {},
   "source": [
    "### 3- Explore correlation between avg_Rg (mean radius of gyration)  and avg_locs_per_day. Please report the correlation results appropriately with a plot showing the correlation coefficient"
   ]
  },
  {
   "cell_type": "code",
   "execution_count": 33,
   "metadata": {},
   "outputs": [
    {
     "data": {
      "text/html": [
       "<div>\n",
       "<style scoped>\n",
       "    .dataframe tbody tr th:only-of-type {\n",
       "        vertical-align: middle;\n",
       "    }\n",
       "\n",
       "    .dataframe tbody tr th {\n",
       "        vertical-align: top;\n",
       "    }\n",
       "\n",
       "    .dataframe thead th {\n",
       "        text-align: right;\n",
       "    }\n",
       "</style>\n",
       "<table border=\"1\" class=\"dataframe\">\n",
       "  <thead>\n",
       "    <tr style=\"text-align: right;\">\n",
       "      <th></th>\n",
       "      <th>avg_Rg</th>\n",
       "      <th>avg_locs_per_day</th>\n",
       "    </tr>\n",
       "  </thead>\n",
       "  <tbody>\n",
       "    <tr>\n",
       "      <th>avg_Rg</th>\n",
       "      <td>1.000000</td>\n",
       "      <td>0.434379</td>\n",
       "    </tr>\n",
       "    <tr>\n",
       "      <th>avg_locs_per_day</th>\n",
       "      <td>0.434379</td>\n",
       "      <td>1.000000</td>\n",
       "    </tr>\n",
       "  </tbody>\n",
       "</table>\n",
       "</div>"
      ],
      "text/plain": [
       "                    avg_Rg  avg_locs_per_day\n",
       "avg_Rg            1.000000          0.434379\n",
       "avg_locs_per_day  0.434379          1.000000"
      ]
     },
     "execution_count": 33,
     "metadata": {},
     "output_type": "execute_result"
    }
   ],
   "source": [
    "dataframe[[\"avg_Rg\", \"avg_locs_per_day\"]].corr()"
   ]
  },
  {
   "cell_type": "code",
   "execution_count": 35,
   "metadata": {},
   "outputs": [
    {
     "name": "stdout",
     "output_type": "stream",
     "text": [
      "The correlation between avg_locs_per_day and avg_Rg is :0.43437865246454405\n"
     ]
    }
   ],
   "source": [
    "print(f'The correlation between avg_locs_per_day and avg_Rg is :{dataframe[[\"avg_Rg\", \"avg_locs_per_day\"]].corr()['avg_locs_per_day'].iloc[0]}')"
   ]
  },
  {
   "cell_type": "code",
   "execution_count": 36,
   "metadata": {},
   "outputs": [
    {
     "data": {
      "image/png": "[encoded data removed]",
      "text/plain": [
       "<Figure size 800x600 with 1 Axes>"
      ]
     },
     "metadata": {},
     "output_type": "display_data"
    }
   ],
   "source": [
    "# Scatter plot using Seaborn\n",
    "plt.figure(figsize=(8, 6))\n",
    "sns.scatterplot(x='avg_Rg', y='avg_locs_per_day', data=dataframe, color='red')\n",
    "\n",
    "# Label the axes and title\n",
    "plt.xlabel('Average Rg')\n",
    "plt.ylabel('Average location per day')\n",
    "plt.title('Scatter Plot of Avg_Rg and avg_locs_per_day')\n",
    "\n",
    "plt.show()\n"
   ]
  },
  {
   "cell_type": "code",
   "execution_count": 37,
   "metadata": {},
   "outputs": [
    {
     "data": {
      "text/plain": [
       "<Axes: >"
      ]
     },
     "execution_count": 37,
     "metadata": {},
     "output_type": "execute_result"
    },
    {
     "data": {
      "image/png": "[encoded data removed]",
      "text/plain": [
       "<Figure size 640x480 with 1 Axes>"
      ]
     },
     "metadata": {},
     "output_type": "display_data"
    }
   ],
   "source": [
    "dataframe[[\"avg_Rg\", \"avg_locs_per_day\"]].plot()"
   ]
  },
  {
   "cell_type": "markdown",
   "metadata": {
    "id": "FxrkEJjB3LiB"
   },
   "source": [
    "## Task4:  What large dataset challenges did you face and how did you solve them. Please explain the decisions you made and why you made them. For example, if you sampled the data, how much of the data did you sample? [ 300 words]"
   ]
  },
  {
   "cell_type": "markdown",
   "metadata": {
    "id": "QEJs2MEv3bSQ"
   },
   "source": [
    "When working with large datasets, several challenges arise, such as memory limitations, processing speed, and ensuring data consistency. Below are the challenges I faced during the preprocessing of the data and the decisions I made to address them:"
   ]
  },
  {
   "cell_type": "markdown",
   "metadata": {
    "id": "YnIhcATj-ASH"
   },
   "source": [
    "**1. Memory Limitations:**\n",
    "\n",
    "  ***Challenge:*** The dataset was too large to fit into memory, especially when working with Spark in distributed environments. Trying to process the entire dataset on a single machine could result in memory overflows or crashes.\n",
    "\n",
    "\n",
    "  ***Solution:*** I used repartition(100) to increase the number of partitions for parallel processing. This distributed the data processing workload across multiple nodes, ensuring that no single partition would exceed memory limits and improving the overall processing speed. And the third and second task, I choose to use sample because of that memory limitations.\n",
    " \n",
    "\n",
    "\n",
    "  I used this because repartitioning allowed Spark to handle large datasets more efficiently, especially when working with operations like join that are computationally expensive. This approach ensures the workload is distributed, and no node is overwhelmed, optimizing memory usage and processing time.\n",
    "\n",
    "\n",
    "**2. Data Quality:**\n",
    "\n",
    "  ***Challenge:*** There were missing or null values in the data, especially in critical columns such as cell_id. These missing values could lead to errors or inconsistencies in the final dataset.\n",
    "\n",
    "\n",
    "  ***Solution:*** I used .na.drop(subset=[\"cell_id\"]) to remove rows with null cell_id values after the join. This step was critical to ensure that the final dataset had complete and valid data for further analysis.\n",
    "\n",
    "\n",
    "  I choose to use this because handling missing data is crucial for maintaining data integrity. By removing rows with essential missing values, I ensured that only valid records were processed, which helped maintain the accuracy of subsequent analysis.\n",
    "\n",
    "\n",
    "**3. Handling Date-Time Conversion:**\n",
    "\n",
    "    \n",
    "***Challenge:*** The cdrDatetime column was in a non-standard format, which made it challenging to work with as a timestamp for time-based operations.\n",
    "\n",
    "\n",
    "***Solution:*** I used to_timestamp() with a specified format (\"yyyyMMddHHmmss\") to convert cdrDatetime into a proper timestamp.\n",
    "    \n",
    "    \n",
    "I use this kind of preprocessing because this conversion enabled time-based filtering, grouping and analysis.\n",
    "\n",
    "\n",
    "\n",
    "\n"
   ]
  },
  {
   "cell_type": "markdown",
   "metadata": {
    "id": "HZvBA-jtBkrc"
   },
   "source": [
    "**4. Data Integration:**\n",
    "\n",
    "\n",
    "***Challenge:*** Merging data from multiple sources (call data and location data).\n",
    "\n",
    "\n",
    "***Solution:*** I used join() to combine the two datasets on common keys (lastCallingCellid and cell_id), followed by dropping rows with null values in the cell_id column."
   ]
  },
  {
   "cell_type": "markdown",
   "metadata": {
    "id": "dZrIK-QqBhuk"
   },
   "source": [
    "**5. Performance Optimization:**\n",
    "\n",
    "\n",
    "***Challenge:*** Large-scale join operations can significantly slow down data processing, especially when dealing with millions of rows.\n",
    "\n",
    "\n",
    "***Solution:*** I optimized the performance by ensuring the join keys were indexed and ensuring the process was distributed across multiple partitions.\n",
    "\n",
    "\n",
    "- *Overall, these decisions allowed me to preprocess a large dataset efficiently while maintaining data quality and ensuring that the analysis could be performed accurately. By handling memory, data quality, and performance issues early in the process, I was able to optimize the analysis pipeline and prevent potential errors.*"
   ]
  }
 ],
 "metadata": {
  "colab": {
   "provenance": []
  },
  "kernelspec": {
   "display_name": "Python 3 (ipykernel)",
   "language": "python",
   "name": "python3"
  },
  "language_info": {
   "codemirror_mode": {
    "name": "ipython",
    "version": 3
   },
   "file_extension": ".py",
   "mimetype": "text/x-python",
   "name": "python",
   "nbconvert_exporter": "python",
   "pygments_lexer": "ipython3",
   "version": "3.12.7"
  }
 },
 "nbformat": 4,
 "nbformat_minor": 4
}
