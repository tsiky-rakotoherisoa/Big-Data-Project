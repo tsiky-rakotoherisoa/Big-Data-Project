{
 "cells": [
  {
   "cell_type": "markdown",
   "id": "389e85c4",
   "metadata": {},
   "source": [
    "# Tsiky Tafita RAKOTOHERISOA \n",
    "\n",
    "## Mini-project \n",
    "\n",
    "## Big Data "
   ]
  },
  {
   "cell_type": "markdown",
   "id": "ba37c436",
   "metadata": {},
   "source": [
    "#### Useful libraries"
   ]
  },
  {
   "cell_type": "code",
   "execution_count": 1,
   "id": "3c12537a",
   "metadata": {},
   "outputs": [],
   "source": [
    "## Python setup\n",
    "from datetime import datetime\n",
    "from IPython.display import Image\n",
    "import pandas as pd\n",
    "# Suppress scientific notation globally\n",
    "pd.options.display.float_format = '{:.2f}'.format\n",
    "import numpy as np\n",
    "from pathlib import Path\n",
    "from pyspark.sql import SparkSession\n",
    "from pyspark.sql.types import *\n",
    "from pyspark.sql.functions import *\n",
    "from pyspark import SparkContext, SparkConf\n",
    "\n",
    "from pyspark.ml.classification import LogisticRegression, RandomForestClassifier, GBTClassifier, DecisionTreeClassifier\n",
    "from pyspark.ml.evaluation import MulticlassClassificationEvaluator\n",
    "from pyspark.ml.feature import VectorAssembler\n",
    "\n",
    "from sklearn.model_selection import train_test_split\n",
    "from sklearn.linear_model import LogisticRegression as LR\n",
    "from sklearn.ensemble import RandomForestClassifier as RF, GradientBoostingClassifier as GBM, ExtraTreesClassifier as ETC, AdaBoostClassifier as Ada\n",
    "from sklearn.metrics import accuracy_score, classification_report, accuracy_score\n",
    "from tabulate import tabulate\n",
    "import matplotlib.pyplot as plt\n",
    "import seaborn as sns"
   ]
  },
  {
   "cell_type": "markdown",
   "id": "8cb257dc",
   "metadata": {},
   "source": [
    "# Task1: Loading and subsetting data"
   ]
  },
  {
   "cell_type": "markdown",
   "id": "d18907e2",
   "metadata": {},
   "source": [
    "### Loading the dataset using spark"
   ]
  },
  {
   "cell_type": "code",
   "execution_count": 2,
   "id": "21dae5d9",
   "metadata": {},
   "outputs": [],
   "source": [
    "# Initialize Spark session\n",
    "spark = SparkSession.builder.appName(\"SampleData\").getOrCreate()\n",
    "\n",
    "# Enable Arrow for faster conversion\n",
    "spark.conf.set(\"spark.sql.execution.arrow.pyspark.enabled\", \"true\")\n",
    "\n",
    "# Read the full dataset\n",
    "df = spark.read.csv(\"population-project-dataset/ResidentIBEIPM.csv\", header=True, inferSchema=True)\n",
    "\n",
    "# Sampling the data\n",
    "df_sampled = df.sample(fraction=0.05,seed = 42)"
   ]
  },
  {
   "cell_type": "markdown",
   "id": "7082a646",
   "metadata": {},
   "source": [
    "### Writing the dataset as csv file "
   ]
  },
  {
   "cell_type": "code",
   "execution_count": 3,
   "id": "6ef0b80a",
   "metadata": {},
   "outputs": [],
   "source": [
    "output_path = \"datasets\"\n",
    "\n",
    "df_sampled.repartition(10).coalesce(1).write.csv(output_path, header=True, sep=\",\", mode=\"overwrite\")"
   ]
  },
  {
   "cell_type": "code",
   "execution_count": 4,
   "id": "f5c4c2e0",
   "metadata": {},
   "outputs": [],
   "source": [
    "dataset = Path('dataset')\n",
    "csv_file_names = [file.name for file in dataset.glob('*.csv')]"
   ]
  },
  {
   "cell_type": "code",
   "execution_count": 5,
   "id": "4b5462b4",
   "metadata": {},
   "outputs": [
    {
     "data": {
      "text/plain": [
       "['part-00000-e06923c3-9dc3-43ae-8323-7d7018fe43b3-c000.csv']"
      ]
     },
     "execution_count": 5,
     "metadata": {},
     "output_type": "execute_result"
    }
   ],
   "source": [
    "csv_file_names"
   ]
  },
  {
   "cell_type": "markdown",
   "id": "00585d80",
   "metadata": {},
   "source": [
    "### Reading the data using pandas"
   ]
  },
  {
   "cell_type": "code",
   "execution_count": 6,
   "id": "b62e7a45",
   "metadata": {},
   "outputs": [
    {
     "name": "stderr",
     "output_type": "stream",
     "text": [
      "/usr/lib/python3/dist-packages/IPython/core/interactiveshell.py:3165: DtypeWarning: Columns (171) have mixed types.Specify dtype option on import or set low_memory=False.\n",
      "  has_raised = await self.run_ast_nodes(code_ast.body, cell_name,\n"
     ]
    }
   ],
   "source": [
    "if csv_file_names:\n",
    "    \n",
    "    data = pd.read_csv(f\"dataset/{csv_file_names[0]}\")"
   ]
  },
  {
   "cell_type": "code",
   "execution_count": 7,
   "id": "83b01494",
   "metadata": {
    "scrolled": true
   },
   "outputs": [
    {
     "data": {
      "text/html": [
       "<div>\n",
       "<style scoped>\n",
       "    .dataframe tbody tr th:only-of-type {\n",
       "        vertical-align: middle;\n",
       "    }\n",
       "\n",
       "    .dataframe tbody tr th {\n",
       "        vertical-align: top;\n",
       "    }\n",
       "\n",
       "    .dataframe thead th {\n",
       "        text-align: right;\n",
       "    }\n",
       "</style>\n",
       "<table border=\"1\" class=\"dataframe\">\n",
       "  <thead>\n",
       "    <tr style=\"text-align: right;\">\n",
       "      <th></th>\n",
       "      <th>C06</th>\n",
       "      <th>C07</th>\n",
       "      <th>PROVINCE</th>\n",
       "      <th>REGION</th>\n",
       "      <th>DISTRICT</th>\n",
       "      <th>COMMUNES</th>\n",
       "      <th>MILIEU</th>\n",
       "      <th>MilieuCarto</th>\n",
       "      <th>IDMEN</th>\n",
       "      <th>IDINDIV</th>\n",
       "      <th>...</th>\n",
       "      <th>wcounth</th>\n",
       "      <th>wcounte</th>\n",
       "      <th>wcountlc</th>\n",
       "      <th>wcount</th>\n",
       "      <th>poorhh</th>\n",
       "      <th>mpih</th>\n",
       "      <th>mpia</th>\n",
       "      <th>mpi</th>\n",
       "      <th>vulne</th>\n",
       "      <th>severe</th>\n",
       "    </tr>\n",
       "  </thead>\n",
       "  <tbody>\n",
       "    <tr>\n",
       "      <th>0</th>\n",
       "      <td>42</td>\n",
       "      <td>3</td>\n",
       "      <td>1</td>\n",
       "      <td>11</td>\n",
       "      <td>111</td>\n",
       "      <td>11101</td>\n",
       "      <td>1</td>\n",
       "      <td>1</td>\n",
       "      <td>11101101420031165023190319</td>\n",
       "      <td>1110110142003116503190231901</td>\n",
       "      <td>...</td>\n",
       "      <td>0.00</td>\n",
       "      <td>0.00</td>\n",
       "      <td>0.13</td>\n",
       "      <td>0.13</td>\n",
       "      <td>0</td>\n",
       "      <td>0</td>\n",
       "      <td>nan</td>\n",
       "      <td>0.00</td>\n",
       "      <td>0</td>\n",
       "      <td>0</td>\n",
       "    </tr>\n",
       "    <tr>\n",
       "      <th>1</th>\n",
       "      <td>14</td>\n",
       "      <td>2</td>\n",
       "      <td>1</td>\n",
       "      <td>11</td>\n",
       "      <td>111</td>\n",
       "      <td>11101</td>\n",
       "      <td>1</td>\n",
       "      <td>1</td>\n",
       "      <td>11101101140021120022760276</td>\n",
       "      <td>1110110114002112002760227601</td>\n",
       "      <td>...</td>\n",
       "      <td>0.00</td>\n",
       "      <td>0.00</td>\n",
       "      <td>0.07</td>\n",
       "      <td>0.07</td>\n",
       "      <td>0</td>\n",
       "      <td>0</td>\n",
       "      <td>nan</td>\n",
       "      <td>0.00</td>\n",
       "      <td>0</td>\n",
       "      <td>0</td>\n",
       "    </tr>\n",
       "    <tr>\n",
       "      <th>2</th>\n",
       "      <td>10</td>\n",
       "      <td>1</td>\n",
       "      <td>1</td>\n",
       "      <td>11</td>\n",
       "      <td>111</td>\n",
       "      <td>11101</td>\n",
       "      <td>1</td>\n",
       "      <td>1</td>\n",
       "      <td>11101101100011045022050205</td>\n",
       "      <td>1110110110001014502050220506</td>\n",
       "      <td>...</td>\n",
       "      <td>0.00</td>\n",
       "      <td>0.00</td>\n",
       "      <td>0.07</td>\n",
       "      <td>0.07</td>\n",
       "      <td>0</td>\n",
       "      <td>0</td>\n",
       "      <td>nan</td>\n",
       "      <td>0.00</td>\n",
       "      <td>0</td>\n",
       "      <td>0</td>\n",
       "    </tr>\n",
       "    <tr>\n",
       "      <th>3</th>\n",
       "      <td>15</td>\n",
       "      <td>1</td>\n",
       "      <td>1</td>\n",
       "      <td>11</td>\n",
       "      <td>111</td>\n",
       "      <td>11101</td>\n",
       "      <td>1</td>\n",
       "      <td>1</td>\n",
       "      <td>11101101150011105020480048</td>\n",
       "      <td>1110110115001110500480204802</td>\n",
       "      <td>...</td>\n",
       "      <td>0.00</td>\n",
       "      <td>0.00</td>\n",
       "      <td>0.13</td>\n",
       "      <td>0.13</td>\n",
       "      <td>0</td>\n",
       "      <td>0</td>\n",
       "      <td>nan</td>\n",
       "      <td>0.00</td>\n",
       "      <td>0</td>\n",
       "      <td>0</td>\n",
       "    </tr>\n",
       "    <tr>\n",
       "      <th>4</th>\n",
       "      <td>3</td>\n",
       "      <td>4</td>\n",
       "      <td>1</td>\n",
       "      <td>11</td>\n",
       "      <td>111</td>\n",
       "      <td>11101</td>\n",
       "      <td>1</td>\n",
       "      <td>1</td>\n",
       "      <td>11101101030041003020670067</td>\n",
       "      <td>1110110103004010300670206705</td>\n",
       "      <td>...</td>\n",
       "      <td>0.00</td>\n",
       "      <td>0.17</td>\n",
       "      <td>0.27</td>\n",
       "      <td>0.43</td>\n",
       "      <td>100</td>\n",
       "      <td>100</td>\n",
       "      <td>43.33</td>\n",
       "      <td>0.43</td>\n",
       "      <td>0</td>\n",
       "      <td>0</td>\n",
       "    </tr>\n",
       "  </tbody>\n",
       "</table>\n",
       "<p>5 rows × 203 columns</p>\n",
       "</div>"
      ],
      "text/plain": [
       "   C06  C07  PROVINCE  REGION  DISTRICT  COMMUNES  MILIEU  MilieuCarto  \\\n",
       "0   42    3         1      11       111     11101       1            1   \n",
       "1   14    2         1      11       111     11101       1            1   \n",
       "2   10    1         1      11       111     11101       1            1   \n",
       "3   15    1         1      11       111     11101       1            1   \n",
       "4    3    4         1      11       111     11101       1            1   \n",
       "\n",
       "                        IDMEN                       IDINDIV  ...  wcounth  \\\n",
       "0  11101101420031165023190319  1110110142003116503190231901  ...     0.00   \n",
       "1  11101101140021120022760276  1110110114002112002760227601  ...     0.00   \n",
       "2  11101101100011045022050205  1110110110001014502050220506  ...     0.00   \n",
       "3  11101101150011105020480048  1110110115001110500480204802  ...     0.00   \n",
       "4  11101101030041003020670067  1110110103004010300670206705  ...     0.00   \n",
       "\n",
       "   wcounte  wcountlc  wcount  poorhh  mpih  mpia  mpi  vulne  severe  \n",
       "0     0.00      0.13    0.13       0     0   nan 0.00      0       0  \n",
       "1     0.00      0.07    0.07       0     0   nan 0.00      0       0  \n",
       "2     0.00      0.07    0.07       0     0   nan 0.00      0       0  \n",
       "3     0.00      0.13    0.13       0     0   nan 0.00      0       0  \n",
       "4     0.17      0.27    0.43     100   100 43.33 0.43      0       0  \n",
       "\n",
       "[5 rows x 203 columns]"
      ]
     },
     "execution_count": 7,
     "metadata": {},
     "output_type": "execute_result"
    }
   ],
   "source": [
    "data.head()"
   ]
  },
  {
   "cell_type": "code",
   "execution_count": 8,
   "id": "7366809c",
   "metadata": {},
   "outputs": [
    {
     "name": "stdout",
     "output_type": "stream",
     "text": [
      "Now we have 203 number of features.\n"
     ]
    }
   ],
   "source": [
    "print(f\"Now we have {len(data.columns)} number of features.\")"
   ]
  },
  {
   "cell_type": "markdown",
   "id": "c920ac55",
   "metadata": {},
   "source": [
    "### Rename the columns of the dataframe for easy identification (based on the task description in the notebook)"
   ]
  },
  {
   "cell_type": "code",
   "execution_count": 9,
   "id": "7c5d9e0c",
   "metadata": {},
   "outputs": [],
   "source": [
    "df1 = data.rename(columns={\n",
    "    'P05': 'sex',\n",
    "    'P03': 'HouseHoldRelationship',\n",
    "    'P08': 'age',\n",
    "    'P28': 'maritalStatus',\n",
    "    'P29': 'ageAtFirstMarriage',\n",
    "    'P21': 'schoolAttendance',\n",
    "    'P22N': 'HighSchoolLevAttendance',\n",
    "    'P22C': 'yearOfSchool',\n",
    "    'P23': 'WorkStatus'\n",
    "})\n"
   ]
  },
  {
   "cell_type": "code",
   "execution_count": 10,
   "id": "a05b54df",
   "metadata": {},
   "outputs": [],
   "source": [
    "df2 = df1.copy()  # Make a copy to preserve the original DataFrame\n",
    "\n",
    "# Create the 'LanguageSpoken' column by summing relevant columns\n",
    "df2['LanguageSpoken'] = df2['P19MG'] + df2['P19FR'] + df2['P19AN'] + df2['P19AU']\n",
    "\n",
    "# Create the 'Literacy' column by summing relevant columns\n",
    "df2['Literacy'] = df2['P20MG'] + df2['P20FR'] + df2['P20AN'] + df2['P20AU']\n"
   ]
  },
  {
   "cell_type": "markdown",
   "id": "9aedce95",
   "metadata": {},
   "source": [
    "### Define the columns to keep"
   ]
  },
  {
   "cell_type": "markdown",
   "id": "25dbb695",
   "metadata": {},
   "source": [
    "I choose these columns based on what are the columns that make in sense with our task and based on the description of the task in the starter notebook. "
   ]
  },
  {
   "cell_type": "code",
   "execution_count": 11,
   "id": "d04980b6",
   "metadata": {},
   "outputs": [],
   "source": [
    "columns_to_keep = [\n",
    "    'sex', \n",
    "    'HouseHoldRelationship', \n",
    "    'age', \n",
    "    'maritalStatus', \n",
    "    'ageAtFirstMarriage', \n",
    "    'schoolAttendance', \n",
    "    'HighSchoolLevAttendance', \n",
    "    'yearOfSchool', \n",
    "    'WorkStatus', \n",
    "    'LanguageSpoken', \n",
    "    'Literacy',\n",
    "    'PROVINCE',\n",
    "    'REGION',\n",
    "    'DISTRICT',\n",
    "    'COMMUNES',\n",
    "    'MILIEU',\n",
    "    'MilieuCarto',\n",
    "    'IDMEN',\n",
    "    'IDINDIV'\n",
    "]\n",
    "\n",
    "# Keep only the specified columns\n",
    "df3 = df2[columns_to_keep]\n"
   ]
  },
  {
   "cell_type": "code",
   "execution_count": 12,
   "id": "7f6c55d0",
   "metadata": {},
   "outputs": [
    {
     "name": "stdout",
     "output_type": "stream",
     "text": [
      "Now we have 19 number of features.\n"
     ]
    }
   ],
   "source": [
    "print(f\"Now we have {len(df3.columns)} number of features.\")\n"
   ]
  },
  {
   "cell_type": "markdown",
   "id": "ecefa0f3",
   "metadata": {},
   "source": [
    "### Strategy that I use:\n",
    "\n",
    "- Firstly I use a **sampling strategy**. It is employed using Apache Spark to extract just a representative sample.\n",
    "\n",
    "- Furthurmore, **reducing memory usage and processing time while maintaining data integrity**. This allows us for exploratory analysis and model development without overwhelming system resources.\n",
    "\n",
    "- And also Apache Spark is utilized for distributed processing, enabling parallel computation across multiple cores. So, one of my solution for loading the data is using **Arrow optimization.**\n",
    "\n",
    "It is enabled to accelerate data conversion between Spark and Pandas, improving processing efficiency.\n",
    "\n",
    "- **Column selection and filtering**. \n",
    "\n",
    "The reason why I choose to use these features are because these are the columns that make in sense with the task, meaningful. \n",
    "\n",
    "\n",
    "- **Conversion to Pandas for local analysis**\n",
    "\n",
    "- **Storage and caching optimization**\n",
    "\n",
    "This approach balances scalability and performance, allowing for iterative data processing and model refinement without memory constraints.\n"
   ]
  },
  {
   "cell_type": "markdown",
   "id": "f82560b5",
   "metadata": {},
   "source": [
    "# Task2: Data preprocessing "
   ]
  },
  {
   "cell_type": "markdown",
   "id": "e8903979",
   "metadata": {},
   "source": [
    "### Adding new variables [column household size]"
   ]
  },
  {
   "cell_type": "markdown",
   "id": "af68dad2",
   "metadata": {},
   "source": [
    "Household size refers to the number of people in a household. The dataset provides a household identifier (hh_id) and an individual identifier (indiv_id). Using these, we can generate a new column called household_size"
   ]
  },
  {
   "cell_type": "code",
   "execution_count": 13,
   "id": "e1d7f48c",
   "metadata": {},
   "outputs": [],
   "source": [
    "import pandas as pd\n",
    "\n",
    "def gen_var_hh_size(df):\n",
    "    \"\"\"\n",
    "    Generates variables for household size, number of children, and number of elderly using 'IDMEN' as the household identifier.\n",
    "    \n",
    "    Parameters\n",
    "    ----------\n",
    "    df : DataFrame\n",
    "        The input Pandas DataFrame containing household data.\n",
    "    \n",
    "    Returns\n",
    "    -------\n",
    "    DataFrame\n",
    "        A DataFrame with new features: `hh_size`, `num_children`, `num_elderly`.\n",
    "    \"\"\"\n",
    "    \n",
    "    # ======================================================\n",
    "    # Generate HH Size: Count number of individuals in each household (IDMEN)\n",
    "    # ======================================================\n",
    "    hh_size = df.groupby('IDMEN')['IDINDIV'].transform('count')\n",
    "    df['hh_size'] = hh_size\n",
    "    \n",
    "    # ======================================================\n",
    "    # Generate Number of Children: Assuming 'age' column exists and represents age\n",
    "    # Considering children as individuals below 18 years old\n",
    "    # ======================================================\n",
    "    df['num_children'] = df[df['age'] < 18].groupby('IDMEN')['IDINDIV'].transform('count')\n",
    "    df['num_children'] = df['num_children'].fillna(0).astype(int)\n",
    "    \n",
    "    # ======================================================\n",
    "    # Generate Number of Elderly: Considering individuals aged 65 or older\n",
    "    # ======================================================\n",
    "    df['num_elderly'] = df[df['age'] >= 65].groupby('IDMEN')['IDINDIV'].transform('count')\n",
    "    df['num_elderly'] = df['num_elderly'].fillna(0).astype(int)\n",
    "    \n",
    "    # ======================================================\n",
    "    # Return the DataFrame with new features\n",
    "    # ======================================================\n",
    "    return df\n"
   ]
  },
  {
   "cell_type": "code",
   "execution_count": 14,
   "id": "458cf67b",
   "metadata": {},
   "outputs": [
    {
     "name": "stderr",
     "output_type": "stream",
     "text": [
      "<ipython-input-13-f77258de2116>:22: SettingWithCopyWarning: \n",
      "A value is trying to be set on a copy of a slice from a DataFrame.\n",
      "Try using .loc[row_indexer,col_indexer] = value instead\n",
      "\n",
      "See the caveats in the documentation: https://pandas.pydata.org/pandas-docs/stable/user_guide/indexing.html#returning-a-view-versus-a-copy\n",
      "  df['hh_size'] = hh_size\n",
      "<ipython-input-13-f77258de2116>:28: SettingWithCopyWarning: \n",
      "A value is trying to be set on a copy of a slice from a DataFrame.\n",
      "Try using .loc[row_indexer,col_indexer] = value instead\n",
      "\n",
      "See the caveats in the documentation: https://pandas.pydata.org/pandas-docs/stable/user_guide/indexing.html#returning-a-view-versus-a-copy\n",
      "  df['num_children'] = df[df['age'] < 18].groupby('IDMEN')['IDINDIV'].transform('count')\n",
      "<ipython-input-13-f77258de2116>:29: SettingWithCopyWarning: \n",
      "A value is trying to be set on a copy of a slice from a DataFrame.\n",
      "Try using .loc[row_indexer,col_indexer] = value instead\n",
      "\n",
      "See the caveats in the documentation: https://pandas.pydata.org/pandas-docs/stable/user_guide/indexing.html#returning-a-view-versus-a-copy\n",
      "  df['num_children'] = df['num_children'].fillna(0).astype(int)\n",
      "<ipython-input-13-f77258de2116>:34: SettingWithCopyWarning: \n",
      "A value is trying to be set on a copy of a slice from a DataFrame.\n",
      "Try using .loc[row_indexer,col_indexer] = value instead\n",
      "\n",
      "See the caveats in the documentation: https://pandas.pydata.org/pandas-docs/stable/user_guide/indexing.html#returning-a-view-versus-a-copy\n",
      "  df['num_elderly'] = df[df['age'] >= 65].groupby('IDMEN')['IDINDIV'].transform('count')\n",
      "<ipython-input-13-f77258de2116>:35: SettingWithCopyWarning: \n",
      "A value is trying to be set on a copy of a slice from a DataFrame.\n",
      "Try using .loc[row_indexer,col_indexer] = value instead\n",
      "\n",
      "See the caveats in the documentation: https://pandas.pydata.org/pandas-docs/stable/user_guide/indexing.html#returning-a-view-versus-a-copy\n",
      "  df['num_elderly'] = df['num_elderly'].fillna(0).astype(int)\n"
     ]
    }
   ],
   "source": [
    "df4 = gen_var_hh_size(df3)  "
   ]
  },
  {
   "cell_type": "code",
   "execution_count": 15,
   "id": "ab4368c3",
   "metadata": {},
   "outputs": [
    {
     "name": "stdout",
     "output_type": "stream",
     "text": [
      "Now we have 22 number of features.\n"
     ]
    }
   ],
   "source": [
    "print(f\"Now we have {len(df4.columns)} number of features.\")"
   ]
  },
  {
   "cell_type": "markdown",
   "id": "48f3ac79",
   "metadata": {},
   "source": [
    "### Checking for the nan values in the dataset"
   ]
  },
  {
   "cell_type": "code",
   "execution_count": 16,
   "id": "0c15c675",
   "metadata": {},
   "outputs": [
    {
     "name": "stdout",
     "output_type": "stream",
     "text": [
      "Total number of NaN values in the DataFrame: 2504073\n"
     ]
    }
   ],
   "source": [
    "nan_check = df4.isna().sum().sum()\n",
    "print(f\"Total number of NaN values in the DataFrame: {nan_check}\")\n"
   ]
  },
  {
   "cell_type": "markdown",
   "id": "3c2d7be0",
   "metadata": {},
   "source": [
    "### Handling with the missing values by filling with the mode for categorical variables and mean for continuous variables"
   ]
  },
  {
   "cell_type": "code",
   "execution_count": 17,
   "id": "4124d8e4",
   "metadata": {},
   "outputs": [
    {
     "name": "stderr",
     "output_type": "stream",
     "text": [
      "/usr/lib/python3/dist-packages/pandas/core/series.py:4530: SettingWithCopyWarning: \n",
      "A value is trying to be set on a copy of a slice from a DataFrame\n",
      "\n",
      "See the caveats in the documentation: https://pandas.pydata.org/pandas-docs/stable/user_guide/indexing.html#returning-a-view-versus-a-copy\n",
      "  return super().fillna(\n"
     ]
    }
   ],
   "source": [
    "\n",
    "for column in df4.columns:\n",
    "    if df4[column].dtype == 'object':  \n",
    "        \n",
    "        df4[column].fillna(df4[column].mode()[0], inplace=True)\n",
    "    else:  \n",
    "        \n",
    "        df4[column].fillna(df4[column].mean(), inplace=True)\n"
   ]
  },
  {
   "cell_type": "code",
   "execution_count": 18,
   "id": "f66c0f80",
   "metadata": {},
   "outputs": [
    {
     "name": "stdout",
     "output_type": "stream",
     "text": [
      "Total number of NaN values in the DataFrame: 0\n"
     ]
    }
   ],
   "source": [
    "nan_check = df4.isna().sum().sum()\n",
    "print(f\"Total number of NaN values in the DataFrame: {nan_check}\")\n"
   ]
  },
  {
   "cell_type": "markdown",
   "id": "c84082fa",
   "metadata": {},
   "source": [
    "# Task3: Exploratory data analysis"
   ]
  },
  {
   "cell_type": "markdown",
   "id": "2384d9b9",
   "metadata": {},
   "source": [
    "### Perform exploratory analysis to understand the data based on the task at hand. Provide a brief explanation of which variables you will explore and why [200 words]\n"
   ]
  },
  {
   "cell_type": "markdown",
   "id": "5821a129",
   "metadata": {},
   "source": [
    "For the performance of the exploratory analysis, I check these three points:\n",
    "\n",
    "- Summary statistics: to well understand the behaviour of the data\n",
    "\n",
    "- Histogram of age at first marriage, age, sex: in order to understand more about the repartition of these variables."
   ]
  },
  {
   "cell_type": "markdown",
   "id": "6ee56ca8",
   "metadata": {},
   "source": [
    "### Summary statistics"
   ]
  },
  {
   "cell_type": "code",
   "execution_count": 19,
   "id": "7fc29c0c",
   "metadata": {},
   "outputs": [
    {
     "data": {
      "text/html": [
       "<div>\n",
       "<style scoped>\n",
       "    .dataframe tbody tr th:only-of-type {\n",
       "        vertical-align: middle;\n",
       "    }\n",
       "\n",
       "    .dataframe tbody tr th {\n",
       "        vertical-align: top;\n",
       "    }\n",
       "\n",
       "    .dataframe thead th {\n",
       "        text-align: right;\n",
       "    }\n",
       "</style>\n",
       "<table border=\"1\" class=\"dataframe\">\n",
       "  <thead>\n",
       "    <tr style=\"text-align: right;\">\n",
       "      <th></th>\n",
       "      <th>sex</th>\n",
       "      <th>HouseHoldRelationship</th>\n",
       "      <th>age</th>\n",
       "      <th>maritalStatus</th>\n",
       "      <th>ageAtFirstMarriage</th>\n",
       "      <th>schoolAttendance</th>\n",
       "      <th>HighSchoolLevAttendance</th>\n",
       "      <th>yearOfSchool</th>\n",
       "      <th>WorkStatus</th>\n",
       "      <th>LanguageSpoken</th>\n",
       "      <th>Literacy</th>\n",
       "      <th>PROVINCE</th>\n",
       "      <th>REGION</th>\n",
       "      <th>DISTRICT</th>\n",
       "      <th>COMMUNES</th>\n",
       "      <th>MILIEU</th>\n",
       "      <th>MilieuCarto</th>\n",
       "      <th>hh_size</th>\n",
       "      <th>num_children</th>\n",
       "      <th>num_elderly</th>\n",
       "    </tr>\n",
       "  </thead>\n",
       "  <tbody>\n",
       "    <tr>\n",
       "      <th>count</th>\n",
       "      <td>1282730.00</td>\n",
       "      <td>1282730.00</td>\n",
       "      <td>1282730.00</td>\n",
       "      <td>1282730.00</td>\n",
       "      <td>1282730.00</td>\n",
       "      <td>1282730.00</td>\n",
       "      <td>1282730.00</td>\n",
       "      <td>1282730.00</td>\n",
       "      <td>1282730.00</td>\n",
       "      <td>1282730.00</td>\n",
       "      <td>1282730.00</td>\n",
       "      <td>1282730.00</td>\n",
       "      <td>1282730.00</td>\n",
       "      <td>1282730.00</td>\n",
       "      <td>1282730.00</td>\n",
       "      <td>1282730.00</td>\n",
       "      <td>1282730.00</td>\n",
       "      <td>1282730.00</td>\n",
       "      <td>1282730.00</td>\n",
       "      <td>1282730.00</td>\n",
       "    </tr>\n",
       "    <tr>\n",
       "      <th>mean</th>\n",
       "      <td>1.51</td>\n",
       "      <td>1.94</td>\n",
       "      <td>22.36</td>\n",
       "      <td>1.73</td>\n",
       "      <td>20.71</td>\n",
       "      <td>1.10</td>\n",
       "      <td>2.39</td>\n",
       "      <td>3.04</td>\n",
       "      <td>3.00</td>\n",
       "      <td>6.68</td>\n",
       "      <td>6.89</td>\n",
       "      <td>2.92</td>\n",
       "      <td>31.24</td>\n",
       "      <td>315.73</td>\n",
       "      <td>31581.88</td>\n",
       "      <td>1.81</td>\n",
       "      <td>1.78</td>\n",
       "      <td>1.22</td>\n",
       "      <td>0.55</td>\n",
       "      <td>0.03</td>\n",
       "    </tr>\n",
       "    <tr>\n",
       "      <th>std</th>\n",
       "      <td>0.50</td>\n",
       "      <td>1.97</td>\n",
       "      <td>17.81</td>\n",
       "      <td>0.57</td>\n",
       "      <td>3.18</td>\n",
       "      <td>1.02</td>\n",
       "      <td>0.65</td>\n",
       "      <td>1.37</td>\n",
       "      <td>2.06</td>\n",
       "      <td>0.61</td>\n",
       "      <td>0.93</td>\n",
       "      <td>1.68</td>\n",
       "      <td>16.74</td>\n",
       "      <td>167.37</td>\n",
       "      <td>16737.21</td>\n",
       "      <td>0.39</td>\n",
       "      <td>0.42</td>\n",
       "      <td>0.47</td>\n",
       "      <td>0.62</td>\n",
       "      <td>0.16</td>\n",
       "    </tr>\n",
       "    <tr>\n",
       "      <th>min</th>\n",
       "      <td>1.00</td>\n",
       "      <td>0.00</td>\n",
       "      <td>0.00</td>\n",
       "      <td>1.00</td>\n",
       "      <td>8.00</td>\n",
       "      <td>0.00</td>\n",
       "      <td>1.00</td>\n",
       "      <td>0.00</td>\n",
       "      <td>1.00</td>\n",
       "      <td>4.00</td>\n",
       "      <td>4.00</td>\n",
       "      <td>1.00</td>\n",
       "      <td>11.00</td>\n",
       "      <td>111.00</td>\n",
       "      <td>11101.00</td>\n",
       "      <td>1.00</td>\n",
       "      <td>1.00</td>\n",
       "      <td>1.00</td>\n",
       "      <td>0.00</td>\n",
       "      <td>0.00</td>\n",
       "    </tr>\n",
       "    <tr>\n",
       "      <th>25%</th>\n",
       "      <td>1.00</td>\n",
       "      <td>1.00</td>\n",
       "      <td>8.00</td>\n",
       "      <td>1.00</td>\n",
       "      <td>20.00</td>\n",
       "      <td>1.00</td>\n",
       "      <td>2.00</td>\n",
       "      <td>2.00</td>\n",
       "      <td>1.00</td>\n",
       "      <td>6.68</td>\n",
       "      <td>6.00</td>\n",
       "      <td>1.00</td>\n",
       "      <td>13.00</td>\n",
       "      <td>133.00</td>\n",
       "      <td>13303.00</td>\n",
       "      <td>2.00</td>\n",
       "      <td>2.00</td>\n",
       "      <td>1.00</td>\n",
       "      <td>0.00</td>\n",
       "      <td>0.00</td>\n",
       "    </tr>\n",
       "    <tr>\n",
       "      <th>50%</th>\n",
       "      <td>2.00</td>\n",
       "      <td>2.00</td>\n",
       "      <td>18.00</td>\n",
       "      <td>1.73</td>\n",
       "      <td>20.71</td>\n",
       "      <td>1.00</td>\n",
       "      <td>2.39</td>\n",
       "      <td>3.04</td>\n",
       "      <td>3.00</td>\n",
       "      <td>7.00</td>\n",
       "      <td>7.00</td>\n",
       "      <td>3.00</td>\n",
       "      <td>31.00</td>\n",
       "      <td>312.00</td>\n",
       "      <td>31202.00</td>\n",
       "      <td>2.00</td>\n",
       "      <td>2.00</td>\n",
       "      <td>1.00</td>\n",
       "      <td>0.00</td>\n",
       "      <td>0.00</td>\n",
       "    </tr>\n",
       "    <tr>\n",
       "      <th>75%</th>\n",
       "      <td>2.00</td>\n",
       "      <td>2.00</td>\n",
       "      <td>33.00</td>\n",
       "      <td>2.00</td>\n",
       "      <td>20.71</td>\n",
       "      <td>2.00</td>\n",
       "      <td>2.39</td>\n",
       "      <td>4.00</td>\n",
       "      <td>5.00</td>\n",
       "      <td>7.00</td>\n",
       "      <td>8.00</td>\n",
       "      <td>4.00</td>\n",
       "      <td>44.00</td>\n",
       "      <td>441.00</td>\n",
       "      <td>44115.00</td>\n",
       "      <td>2.00</td>\n",
       "      <td>2.00</td>\n",
       "      <td>1.00</td>\n",
       "      <td>1.00</td>\n",
       "      <td>0.00</td>\n",
       "    </tr>\n",
       "    <tr>\n",
       "      <th>max</th>\n",
       "      <td>2.00</td>\n",
       "      <td>9.00</td>\n",
       "      <td>95.00</td>\n",
       "      <td>4.00</td>\n",
       "      <td>98.00</td>\n",
       "      <td>9.00</td>\n",
       "      <td>5.00</td>\n",
       "      <td>8.00</td>\n",
       "      <td>8.00</td>\n",
       "      <td>8.00</td>\n",
       "      <td>8.00</td>\n",
       "      <td>6.00</td>\n",
       "      <td>62.00</td>\n",
       "      <td>624.00</td>\n",
       "      <td>62418.00</td>\n",
       "      <td>2.00</td>\n",
       "      <td>2.00</td>\n",
       "      <td>6.00</td>\n",
       "      <td>5.00</td>\n",
       "      <td>3.00</td>\n",
       "    </tr>\n",
       "  </tbody>\n",
       "</table>\n",
       "</div>"
      ],
      "text/plain": [
       "             sex  HouseHoldRelationship        age  maritalStatus  \\\n",
       "count 1282730.00             1282730.00 1282730.00     1282730.00   \n",
       "mean        1.51                   1.94      22.36           1.73   \n",
       "std         0.50                   1.97      17.81           0.57   \n",
       "min         1.00                   0.00       0.00           1.00   \n",
       "25%         1.00                   1.00       8.00           1.00   \n",
       "50%         2.00                   2.00      18.00           1.73   \n",
       "75%         2.00                   2.00      33.00           2.00   \n",
       "max         2.00                   9.00      95.00           4.00   \n",
       "\n",
       "       ageAtFirstMarriage  schoolAttendance  HighSchoolLevAttendance  \\\n",
       "count          1282730.00        1282730.00               1282730.00   \n",
       "mean                20.71              1.10                     2.39   \n",
       "std                  3.18              1.02                     0.65   \n",
       "min                  8.00              0.00                     1.00   \n",
       "25%                 20.00              1.00                     2.00   \n",
       "50%                 20.71              1.00                     2.39   \n",
       "75%                 20.71              2.00                     2.39   \n",
       "max                 98.00              9.00                     5.00   \n",
       "\n",
       "       yearOfSchool  WorkStatus  LanguageSpoken   Literacy   PROVINCE  \\\n",
       "count    1282730.00  1282730.00      1282730.00 1282730.00 1282730.00   \n",
       "mean           3.04        3.00            6.68       6.89       2.92   \n",
       "std            1.37        2.06            0.61       0.93       1.68   \n",
       "min            0.00        1.00            4.00       4.00       1.00   \n",
       "25%            2.00        1.00            6.68       6.00       1.00   \n",
       "50%            3.04        3.00            7.00       7.00       3.00   \n",
       "75%            4.00        5.00            7.00       8.00       4.00   \n",
       "max            8.00        8.00            8.00       8.00       6.00   \n",
       "\n",
       "          REGION   DISTRICT   COMMUNES     MILIEU  MilieuCarto    hh_size  \\\n",
       "count 1282730.00 1282730.00 1282730.00 1282730.00   1282730.00 1282730.00   \n",
       "mean       31.24     315.73   31581.88       1.81         1.78       1.22   \n",
       "std        16.74     167.37   16737.21       0.39         0.42       0.47   \n",
       "min        11.00     111.00   11101.00       1.00         1.00       1.00   \n",
       "25%        13.00     133.00   13303.00       2.00         2.00       1.00   \n",
       "50%        31.00     312.00   31202.00       2.00         2.00       1.00   \n",
       "75%        44.00     441.00   44115.00       2.00         2.00       1.00   \n",
       "max        62.00     624.00   62418.00       2.00         2.00       6.00   \n",
       "\n",
       "       num_children  num_elderly  \n",
       "count    1282730.00   1282730.00  \n",
       "mean           0.55         0.03  \n",
       "std            0.62         0.16  \n",
       "min            0.00         0.00  \n",
       "25%            0.00         0.00  \n",
       "50%            0.00         0.00  \n",
       "75%            1.00         0.00  \n",
       "max            5.00         3.00  "
      ]
     },
     "execution_count": 19,
     "metadata": {},
     "output_type": "execute_result"
    }
   ],
   "source": [
    "df4.describe()"
   ]
  },
  {
   "cell_type": "markdown",
   "id": "e66fdf24",
   "metadata": {},
   "source": [
    "### Histogram of age at first marriage"
   ]
  },
  {
   "cell_type": "code",
   "execution_count": 20,
   "id": "e6068e8d",
   "metadata": {},
   "outputs": [
    {
     "data": {
      "image/png": "[encoded data removed]",
      "text/plain": [
       "<Figure size 720x432 with 1 Axes>"
      ]
     },
     "metadata": {
      "needs_background": "light"
     },
     "output_type": "display_data"
    }
   ],
   "source": [
    "\n",
    "plt.figure(figsize=(10, 6))\n",
    "plt.hist(df4['ageAtFirstMarriage'], bins=20, edgecolor='black', color='skyblue')\n",
    "plt.title('Histogram of Age at First Marriage')\n",
    "plt.xlabel('Age at First Marriage')\n",
    "plt.ylabel('Frequency')\n",
    "plt.grid(True)\n",
    "plt.show()\n"
   ]
  },
  {
   "cell_type": "markdown",
   "id": "16cba9be",
   "metadata": {},
   "source": [
    "### Frequency table for age at first marriage "
   ]
  },
  {
   "cell_type": "code",
   "execution_count": 21,
   "id": "54c9267f",
   "metadata": {},
   "outputs": [
    {
     "name": "stdout",
     "output_type": "stream",
     "text": [
      "    Age at First Marriage  Frequency\n",
      "0                   20.71     766503\n",
      "1                   20.00      85593\n",
      "2                   18.00      75279\n",
      "3                   19.00      44018\n",
      "4                   17.00      39273\n",
      "..                    ...        ...\n",
      "75                  79.00          1\n",
      "76                  85.00          1\n",
      "77                  81.00          1\n",
      "78                  78.00          1\n",
      "79                  74.00          1\n",
      "\n",
      "[80 rows x 2 columns]\n"
     ]
    }
   ],
   "source": [
    "age_married_table = df4['ageAtFirstMarriage'].value_counts().reset_index()\n",
    "age_married_table.columns = ['Age at First Marriage', 'Frequency']\n",
    "\n",
    "# Display the table\n",
    "print(age_married_table)\n"
   ]
  },
  {
   "cell_type": "markdown",
   "id": "556c23e7",
   "metadata": {},
   "source": [
    "**Observations:** The data shows that the most common age at first marriage is around 20 years, with the highest frequency at 20.71 years (766,503 individuals), indicating a trend of early marriages.\n",
    "\n",
    "There are very few cases of late marriages, with ages like 74 to 85 having only one occurrence each, suggesting they are rare outliers."
   ]
  },
  {
   "cell_type": "markdown",
   "id": "77c471e0",
   "metadata": {},
   "source": [
    "### Histogram of variable sex"
   ]
  },
  {
   "cell_type": "code",
   "execution_count": 22,
   "id": "5c3beb71",
   "metadata": {},
   "outputs": [
    {
     "data": {
      "image/png": "[encoded data removed]",
      "text/plain": [
       "<Figure size 720x432 with 1 Axes>"
      ]
     },
     "metadata": {
      "needs_background": "light"
     },
     "output_type": "display_data"
    }
   ],
   "source": [
    "plt.figure(figsize=(10, 6))\n",
    "plt.hist(df4['sex'], bins=20, edgecolor='black', color='skyblue')\n",
    "plt.title('Histogram of sex')\n",
    "plt.xlabel('sex')\n",
    "plt.ylabel('Frequency')\n",
    "plt.grid(True)\n",
    "plt.show()\n"
   ]
  },
  {
   "cell_type": "markdown",
   "id": "751d4f3e",
   "metadata": {},
   "source": [
    "### Frequency table for the variable sex"
   ]
  },
  {
   "cell_type": "code",
   "execution_count": 23,
   "id": "f471c87e",
   "metadata": {},
   "outputs": [
    {
     "name": "stdout",
     "output_type": "stream",
     "text": [
      "   sex  Frequency\n",
      "0    2     649961\n",
      "1    1     632769\n"
     ]
    }
   ],
   "source": [
    "sex_table = df4['sex'].value_counts().reset_index()\n",
    "sex_table.columns = ['sex', 'Frequency']\n",
    "\n",
    "# Display the table\n",
    "print(sex_table)"
   ]
  },
  {
   "cell_type": "markdown",
   "id": "b0c6329a",
   "metadata": {},
   "source": [
    "**Observations:** The repartition of the sex is well distributed. There is no big difference between the two class of sex."
   ]
  },
  {
   "cell_type": "markdown",
   "id": "4459b1a8",
   "metadata": {},
   "source": [
    "### Histogram of age"
   ]
  },
  {
   "cell_type": "code",
   "execution_count": 24,
   "id": "7b76d5bb",
   "metadata": {},
   "outputs": [
    {
     "data": {
      "image/png": "[encoded data removed]",
      "text/plain": [
       "<Figure size 720x432 with 1 Axes>"
      ]
     },
     "metadata": {
      "needs_background": "light"
     },
     "output_type": "display_data"
    }
   ],
   "source": [
    "plt.figure(figsize=(10, 6))\n",
    "plt.hist(df4['age'], bins=20, edgecolor='black', color='skyblue')\n",
    "plt.title('Histogram of age')\n",
    "plt.xlabel('sex')\n",
    "plt.ylabel('Frequency')\n",
    "plt.grid(True)\n",
    "plt.show()"
   ]
  },
  {
   "cell_type": "markdown",
   "id": "d5716fc1",
   "metadata": {},
   "source": [
    "### Frequency table of age"
   ]
  },
  {
   "cell_type": "code",
   "execution_count": 25,
   "id": "8a18b286",
   "metadata": {},
   "outputs": [
    {
     "name": "stdout",
     "output_type": "stream",
     "text": [
      "     age  Frequency\n",
      "0  10.00      40356\n",
      "1  18.00      39491\n",
      "2   2.00      39458\n",
      "3   3.00      38503\n",
      "4   4.00      38490\n",
      "..   ...        ...\n",
      "92 91.00         68\n",
      "93 92.00         60\n",
      "94 93.00         54\n",
      "95 94.00         51\n",
      "96 22.36         38\n",
      "\n",
      "[97 rows x 2 columns]\n"
     ]
    }
   ],
   "source": [
    "age_table = df4['age'].value_counts().reset_index()\n",
    "age_table.columns = ['age', 'Frequency']\n",
    "\n",
    "# Display the table\n",
    "print(age_table)"
   ]
  },
  {
   "cell_type": "markdown",
   "id": "a27e870b",
   "metadata": {},
   "source": [
    "**Observations:** According to this frequency table, there is a big variation of the age in the dataset "
   ]
  },
  {
   "cell_type": "markdown",
   "id": "0359b92d",
   "metadata": {},
   "source": [
    "# Task4: Prepare data for ML model building"
   ]
  },
  {
   "cell_type": "markdown",
   "id": "646ff646",
   "metadata": {},
   "source": [
    "### Deal with outliers in continuous variables"
   ]
  },
  {
   "cell_type": "markdown",
   "id": "dab4e89a",
   "metadata": {},
   "source": []
  },
  {
   "cell_type": "code",
   "execution_count": 26,
   "id": "11b8367e",
   "metadata": {},
   "outputs": [],
   "source": [
    "# Drop all observations with age > 100\n",
    "df4 = df4[df4['age'] <= 100]\n",
    "\n",
    "# Drop all observations with hh_size > 20\n",
    "df4 = df4[df4['hh_size'] <= 20]\n",
    "\n",
    "# Drop all observations with num_children > 1\n",
    "df4 = df4[df4['num_children'] <= 1]\n",
    "\n",
    "# Drop all observations with num_elderly > 1\n",
    "df4 = df4[df4['num_elderly'] <= 1]"
   ]
  },
  {
   "cell_type": "code",
   "execution_count": 27,
   "id": "6056b725",
   "metadata": {},
   "outputs": [
    {
     "name": "stdout",
     "output_type": "stream",
     "text": [
      "             age    hh_size  num_children  num_elderly\n",
      "count 1207938.00 1207938.00    1207938.00   1207938.00\n",
      "mean       23.19       1.16          0.45         0.03\n",
      "std        17.93       0.40          0.50         0.16\n",
      "min         0.00       1.00          0.00         0.00\n",
      "25%         9.00       1.00          0.00         0.00\n",
      "50%        19.00       1.00          0.00         0.00\n",
      "75%        34.00       1.00          1.00         0.00\n",
      "max        95.00       6.00          1.00         1.00\n"
     ]
    }
   ],
   "source": [
    "# Verify the changes\n",
    "print(df4[['age', 'hh_size', 'num_children', 'num_elderly']].describe())"
   ]
  },
  {
   "cell_type": "code",
   "execution_count": 28,
   "id": "82c6a5d1",
   "metadata": {},
   "outputs": [
    {
     "data": {
      "text/plain": [
       "Index(['sex', 'HouseHoldRelationship', 'age', 'maritalStatus',\n",
       "       'ageAtFirstMarriage', 'schoolAttendance', 'HighSchoolLevAttendance',\n",
       "       'yearOfSchool', 'WorkStatus', 'LanguageSpoken', 'Literacy', 'PROVINCE',\n",
       "       'REGION', 'DISTRICT', 'COMMUNES', 'MILIEU', 'MilieuCarto', 'IDMEN',\n",
       "       'IDINDIV', 'hh_size', 'num_children', 'num_elderly'],\n",
       "      dtype='object')"
      ]
     },
     "execution_count": 28,
     "metadata": {},
     "output_type": "execute_result"
    }
   ],
   "source": [
    "df4.columns"
   ]
  },
  {
   "cell_type": "markdown",
   "id": "d3dcd7f9",
   "metadata": {},
   "source": [
    "### Checking outliers using boxplots"
   ]
  },
  {
   "cell_type": "code",
   "execution_count": 29,
   "id": "57305b25",
   "metadata": {},
   "outputs": [],
   "source": [
    "\n",
    "# Drop rows where age > 100\n",
    "df4 = df4[df4[\"age\"] <= 100]\n",
    "\n",
    "# Drop rows where hh_size > 20\n",
    "df4 = df4[df4[\"hh_size\"] <= 20]\n",
    "\n",
    "# Drop rows where num_children > 1\n",
    "df4 = df4[df4[\"num_children\"] <= 1]\n",
    "\n",
    "# Drop rows where num_elderly > 1\n",
    "df4 = df4[df4[\"num_elderly\"] <= 1]\n"
   ]
  },
  {
   "cell_type": "markdown",
   "id": "67b3a1bb",
   "metadata": {},
   "source": [
    "### Generate Target Variable for Prediction"
   ]
  },
  {
   "cell_type": "code",
   "execution_count": 30,
   "id": "a27687b3",
   "metadata": {},
   "outputs": [],
   "source": [
    "# Define the early marriage age threshold\n",
    "EARLY_MARRIAGE_AGE_THRESHOLD = 18\n",
    "\n",
    "# Add early_marriage variable\n",
    "df4['early_marriage'] = df4['ageAtFirstMarriage'].apply(lambda x: 1 if x < EARLY_MARRIAGE_AGE_THRESHOLD else 0)\n"
   ]
  },
  {
   "cell_type": "markdown",
   "id": "0178a1a4",
   "metadata": {},
   "source": [
    "### One-hot encoding for categorical variables"
   ]
  },
  {
   "cell_type": "code",
   "execution_count": 31,
   "id": "d3ac7f23",
   "metadata": {},
   "outputs": [],
   "source": [
    "# ============================================\n",
    "# ONE-HOT ENCODING FOR CATEGORICAL VARIABLES\n",
    "# ============================================\n",
    "\n",
    "categorical_columns = [\n",
    "    'sex', 'HouseHoldRelationship', 'maritalStatus', 'schoolAttendance', \n",
    "    'HighSchoolLevAttendance', 'WorkStatus', 'PROVINCE',\n",
    "    'schoolAttendance', 'MILIEU'\n",
    "]\n",
    "\n",
    "for col in categorical_columns:\n",
    "    df4[col] = df4[col].astype('category')\n"
   ]
  },
  {
   "cell_type": "code",
   "execution_count": 32,
   "id": "b3543348",
   "metadata": {},
   "outputs": [
    {
     "data": {
      "text/plain": [
       "['sex',\n",
       " 'HouseHoldRelationship',\n",
       " 'maritalStatus',\n",
       " 'schoolAttendance',\n",
       " 'HighSchoolLevAttendance',\n",
       " 'WorkStatus',\n",
       " 'PROVINCE',\n",
       " 'schoolAttendance',\n",
       " 'MILIEU']"
      ]
     },
     "execution_count": 32,
     "metadata": {},
     "output_type": "execute_result"
    }
   ],
   "source": [
    "categorical_columns"
   ]
  },
  {
   "cell_type": "code",
   "execution_count": 33,
   "id": "91d326dc",
   "metadata": {},
   "outputs": [],
   "source": [
    "# One-hot encode categorical variables using pd.get_dummies\n",
    "df4 = pd.get_dummies(df4, columns=categorical_columns, drop_first=True)\n"
   ]
  },
  {
   "cell_type": "code",
   "execution_count": 34,
   "id": "d7a572cb",
   "metadata": {},
   "outputs": [],
   "source": [
    "# Convert True/False columns to 1/0 (if any)\n",
    "df4 = df4.applymap(lambda x: 1 if x is True else (0 if x is False else x))"
   ]
  },
  {
   "cell_type": "code",
   "execution_count": 35,
   "id": "5336bf67",
   "metadata": {},
   "outputs": [
    {
     "name": "stdout",
     "output_type": "stream",
     "text": [
      "    age  ageAtFirstMarriage  yearOfSchool  LanguageSpoken  Literacy  REGION  \\\n",
      "0 55.00               27.00          8.00            5.00      5.00      11   \n",
      "1 64.00               22.00          7.00            7.00      5.00      11   \n",
      "2 16.00               20.71          5.00            6.00      6.00      11   \n",
      "3 20.00               19.00          2.00            5.00      5.00      11   \n",
      "4  1.00               20.71          3.04            6.68      6.89      11   \n",
      "\n",
      "   DISTRICT  COMMUNES  MilieuCarto                       IDMEN  ...  \\\n",
      "0       111     11101            1  11101101420031165023190319  ...   \n",
      "1       111     11101            1  11101101140021120022760276  ...   \n",
      "2       111     11101            1  11101101100011045022050205  ...   \n",
      "3       111     11101            1  11101101150011105020480048  ...   \n",
      "4       111     11101            1  11101101030041003020670067  ...   \n",
      "\n",
      "  PROVINCE_2  PROVINCE_3  PROVINCE_4  PROVINCE_5  PROVINCE_6  \\\n",
      "0          0           0           0           0           0   \n",
      "1          0           0           0           0           0   \n",
      "2          0           0           0           0           0   \n",
      "3          0           0           0           0           0   \n",
      "4          0           0           0           0           0   \n",
      "\n",
      "   schoolAttendance_1.0  schoolAttendance_1.1041994826637878  \\\n",
      "0                     1                                    0   \n",
      "1                     1                                    0   \n",
      "2                     1                                    0   \n",
      "3                     1                                    0   \n",
      "4                     0                                    1   \n",
      "\n",
      "   schoolAttendance_2.0  schoolAttendance_9.0  MILIEU_2  \n",
      "0                     0                     0         0  \n",
      "1                     0                     0         0  \n",
      "2                     0                     0         0  \n",
      "3                     0                     0         0  \n",
      "4                     0                     0         0  \n",
      "\n",
      "[5 rows x 56 columns]\n"
     ]
    }
   ],
   "source": [
    "# Verify the changes by checking the columns and first few rows\n",
    "print(df4.head())"
   ]
  },
  {
   "cell_type": "code",
   "execution_count": 36,
   "id": "c2a63d08",
   "metadata": {},
   "outputs": [
    {
     "name": "stdout",
     "output_type": "stream",
     "text": [
      "Now we have 56 number of features.\n"
     ]
    }
   ],
   "source": [
    "print(f\"Now we have {len(df4.columns)} number of features.\")"
   ]
  },
  {
   "cell_type": "markdown",
   "id": "e3f43913",
   "metadata": {},
   "source": [
    "# Task5: Build ML Model with Scikit-learn and spark"
   ]
  },
  {
   "cell_type": "markdown",
   "id": "8fd72a92",
   "metadata": {},
   "source": [
    "Use sklearn to compare perfomance of the following models: Logistic regression, random forest and gradient boosted trees. Report on the accuracy of each of these models. One of your models need to reach accuracy of at least 80%. Make sure you use parameter “n_jobs=-1” to utilize all cores on your computer. Please make sure the print out from the model evaluation is available in the notebook for the tutors to see. "
   ]
  },
  {
   "cell_type": "code",
   "execution_count": 37,
   "id": "50153cf2",
   "metadata": {},
   "outputs": [],
   "source": [
    "def random_forest_with_sklearn(df, num_estimators=100):\n",
    "    # Define the target variable and features\n",
    "    target_var = 'early_marriage'\n",
    "    features = df.columns[df.columns != target_var]\n",
    "\n",
    "    # Split the data into training and testing sets\n",
    "    X = df[features]\n",
    "    y = df[target_var]\n",
    "    X_train, X_test, y_train, y_test = train_test_split(X, y, test_size=0.3, random_state=42)\n",
    "\n",
    "    # Initialize the Random Forest model\n",
    "    rf_model = RandomForestClassifier(n_estimators=num_estimators, random_state=42, n_jobs=-1)\n",
    "\n",
    "    # Train the model\n",
    "    rf_model.fit(X_train, y_train)\n",
    "\n",
    "    # Make predictions\n",
    "    y_pred = rf_model.predict(X_test)\n",
    "\n",
    "    # Evaluate the model\n",
    "    accuracy = accuracy_score(y_test, y_pred)\n",
    "    report = classification_report(y_test, y_pred)\n",
    "\n",
    "    print(f\"Accuracy: {accuracy}\")\n",
    "    print(\"Classification Report:\")\n",
    "    print(report)\n",
    "\n",
    "    return rf_model"
   ]
  },
  {
   "cell_type": "code",
   "execution_count": 38,
   "id": "cb4afc2f",
   "metadata": {},
   "outputs": [],
   "source": [
    "def evaluate_models_sklearn(df):\n",
    "    # Define the target variable and features\n",
    "    target_var = 'early_marriage'\n",
    "    features = df.columns[df.columns != target_var]\n",
    "\n",
    "    # Split the data into training and testing sets\n",
    "    X = df[features]\n",
    "    y = df[target_var]\n",
    "    X_train, X_test, y_train, y_test = train_test_split(X, y, test_size=0.3, random_state=42)\n",
    "\n",
    "    # Initialize the models\n",
    "    models = {\n",
    "        \"Logistic Regression\": LR(max_iter=100, random_state=42),\n",
    "        \"Random Forest\": RF(n_estimators=100, random_state=42, n_jobs=-1),\n",
    "        \"Gradient Boosting\": GBM(n_estimators=100, random_state=42),\n",
    "        \"Extra Trees\": ETC(n_estimators=100, random_state=42, n_jobs=-1)\n",
    "    }\n",
    "\n",
    "    # Train and evaluate each model\n",
    "    results = []\n",
    "    for name, model in models.items():\n",
    "        model.fit(X_train, y_train)\n",
    "        y_pred = model.predict(X_test)\n",
    "        accuracy = accuracy_score(y_test, y_pred)\n",
    "        results.append([name, accuracy])\n",
    "\n",
    "    # Print the results in a tabular format\n",
    "    print(tabulate(results, headers=[\"Model\", \"Accuracy\"], tablefmt=\"pretty\"))"
   ]
  },
  {
   "cell_type": "code",
   "execution_count": null,
   "id": "fc59c558",
   "metadata": {},
   "outputs": [],
   "source": []
  },
  {
   "cell_type": "code",
   "execution_count": 39,
   "id": "e9d9d6c1",
   "metadata": {},
   "outputs": [
    {
     "name": "stderr",
     "output_type": "stream",
     "text": [
      "/usr/lib/python3/dist-packages/sklearn/linear_model/_logistic.py:762: ConvergenceWarning: lbfgs failed to converge (status=2):\n",
      "ABNORMAL_TERMINATION_IN_LNSRCH.\n",
      "\n",
      "Increase the number of iterations (max_iter) or scale the data as shown in:\n",
      "    https://scikit-learn.org/stable/modules/preprocessing.html\n",
      "Please also refer to the documentation for alternative solver options:\n",
      "    https://scikit-learn.org/stable/modules/linear_model.html#logistic-regression\n",
      "  n_iter_i = _check_optimize_result(\n"
     ]
    },
    {
     "name": "stdout",
     "output_type": "stream",
     "text": [
      "+---------------------+--------------------+\n",
      "|        Model        |      Accuracy      |\n",
      "+---------------------+--------------------+\n",
      "| Logistic Regression | 0.9035741289578401 |\n",
      "|    Random Forest    |        1.0         |\n",
      "|  Gradient Boosting  |        1.0         |\n",
      "|     Extra Trees     | 0.9765220126827492 |\n",
      "+---------------------+--------------------+\n"
     ]
    }
   ],
   "source": [
    "# Build and evaluate the models using the df_marr2_dummies DataFrame\n",
    "evaluate_models_sklearn(df4)"
   ]
  },
  {
   "cell_type": "code",
   "execution_count": 40,
   "id": "3d9cb4ae",
   "metadata": {},
   "outputs": [],
   "source": [
    "def evaluate_models_spark(df, target_var):\n",
    "    \"\"\"\n",
    "    Evaluate multiple machine learning models using Spark MLlib on the given DataFrame.\n",
    "\n",
    "    Parameters:\n",
    "    ----------\n",
    "    df : pyspark.sql.DataFrame\n",
    "        The input DataFrame containing features and the target variable.\n",
    "    target_var : str\n",
    "        The name of the target variable column.\n",
    "\n",
    "    Returns:\n",
    "    -------\n",
    "    None\n",
    "    \"\"\"\n",
    "    # Define the features\n",
    "    features = [col for col in df.columns if col != target_var]\n",
    "\n",
    "    # Assemble features into a single vector\n",
    "    assembler = VectorAssembler(inputCols=features, outputCol=\"features\")\n",
    "    df = assembler.transform(df).select(\"features\", target_var)\n",
    "\n",
    "    # Split the data into training and testing sets\n",
    "    train_df, test_df = df.randomSplit([0.7, 0.3], seed=42)\n",
    "\n",
    "    # Initialize models\n",
    "    models = {\n",
    "        \"Logistic Regression\": LogisticRegression(maxIter=50).setFeaturesCol(\"features\").setLabelCol(target_var),\n",
    "        \"Random Forest\": RandomForestClassifier(numTrees=100, seed=42).setFeaturesCol(\"features\").setLabelCol(target_var),\n",
    "        \"Gradient Boosting\": GBTClassifier(maxIter=100, seed=42).setFeaturesCol(\"features\").setLabelCol(target_var),\n",
    "        \"Decision Tree\": DecisionTreeClassifier(seed=42).setFeaturesCol(\"features\").setLabelCol(target_var),\n",
    "    }\n",
    "\n",
    "    # Initialize evaluator\n",
    "    evaluator = MulticlassClassificationEvaluator(labelCol=target_var, predictionCol=\"prediction\", metricName=\"accuracy\")\n",
    "\n",
    "    # Train and evaluate each model\n",
    "    results = []\n",
    "    for name, model in models.items():\n",
    "        # Train the model\n",
    "        trained_model = model.fit(train_df)\n",
    "\n",
    "        # Make predictions\n",
    "        predictions = trained_model.transform(test_df)\n",
    "\n",
    "        # Evaluate accuracy\n",
    "        accuracy = evaluator.evaluate(predictions)\n",
    "\n",
    "        # Append results\n",
    "        results.append([name, accuracy])\n",
    "\n",
    "    # Print results in a tabular format\n",
    "    from tabulate import tabulate\n",
    "    print(tabulate(results, headers=[\"Model\", \"Accuracy\"], tablefmt=\"pretty\"))\n"
   ]
  },
  {
   "cell_type": "code",
   "execution_count": 49,
   "id": "4f2477c8",
   "metadata": {},
   "outputs": [],
   "source": [
    "df5 = df4.copy()"
   ]
  },
  {
   "cell_type": "code",
   "execution_count": 50,
   "id": "1386bcfa",
   "metadata": {},
   "outputs": [],
   "source": [
    "df5.to_csv(\"csv_spark.csv\", header=True)"
   ]
  },
  {
   "cell_type": "code",
   "execution_count": 51,
   "id": "8526340f",
   "metadata": {},
   "outputs": [],
   "source": [
    "spark_df = spark.read.csv(\"csv_spark.csv\", header=True, inferSchema=True)\n"
   ]
  },
  {
   "cell_type": "code",
   "execution_count": 52,
   "id": "371c4477",
   "metadata": {},
   "outputs": [],
   "source": [
    "from pyspark.sql.functions import regexp_replace, col\n",
    "\n",
    "\n",
    "for column in spark_df.columns:\n",
    "    \n",
    "    new_column_name = column.replace('.', '').replace('_', '')\n",
    "    spark_df = spark_df.withColumnRenamed(column, new_column_name)"
   ]
  },
  {
   "cell_type": "code",
   "execution_count": 53,
   "id": "a9896f00",
   "metadata": {},
   "outputs": [
    {
     "name": "stdout",
     "output_type": "stream",
     "text": [
      "+---------------------+--------------------+\n",
      "|        Model        |      Accuracy      |\n",
      "+---------------------+--------------------+\n",
      "| Logistic Regression |        1.0         |\n",
      "|    Random Forest    | 0.9999751427222033 |\n",
      "|  Gradient Boosting  |        1.0         |\n",
      "|    Decision Tree    |        1.0         |\n",
      "+---------------------+--------------------+\n"
     ]
    }
   ],
   "source": [
    "evaluate_models_spark(spark_df, \"earlymarriage\")"
   ]
  }
 ],
 "metadata": {
  "kernelspec": {
   "display_name": "Python 3",
   "language": "python",
   "name": "python3"
  },
  "language_info": {
   "codemirror_mode": {
    "name": "ipython",
    "version": 3
   },
   "file_extension": ".py",
   "mimetype": "text/x-python",
   "name": "python",
   "nbconvert_exporter": "python",
   "pygments_lexer": "ipython3",
   "version": "3.9.2"
  }
 },
 "nbformat": 4,
 "nbformat_minor": 5
}
