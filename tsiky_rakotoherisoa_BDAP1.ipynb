{
 "cells": [
  {
   "cell_type": "markdown",
   "metadata": {
    "id": "_0upQOJDa9sX"
   },
   "source": [
    "# Assignment 1 - Big Data\n",
    "**Tsiky Tafita RAKOTOHERISOA**"
   ]
  },
  {
   "cell_type": "markdown",
   "metadata": {
    "id": "GopZILewbHek"
   },
   "source": [
    "# Question 1: Loading a large CSV"
   ]
  },
  {
   "cell_type": "markdown",
   "metadata": {
    "id": "CorjcISJbf-Z"
   },
   "source": [
    "**dataset: activity_log_raw.csv**"
   ]
  },
  {
   "cell_type": "markdown",
   "metadata": {
    "id": "6gZJo2YkbXEc"
   },
   "source": [
    "**Task 1:  Write a function which returns the date range in the dataset (i.e, earliest and oldest). Please call your function and print out the date range.**"
   ]
  },
  {
   "cell_type": "markdown",
   "metadata": {
    "id": "LPLGvRIByaRX"
   },
   "source": [
    "**Task 2:  Write a function which returns the year and month  with the largest number of events.**"
   ]
  },
  {
   "cell_type": "markdown",
   "metadata": {
    "id": "cHBjcmC7sIku"
   },
   "source": [
    "**Loading the dataset from the drive and process it**"
   ]
  },
  {
   "cell_type": "code",
   "execution_count": 1,
   "metadata": {
    "colab": {
     "base_uri": "https://localhost:8080/"
    },
    "id": "h-UQxmXXa4fn",
    "outputId": "1b18bdb2-1635-4cdf-f382-22c142758a30"
   },
   "outputs": [
    {
     "name": "stdout",
     "output_type": "stream",
     "text": [
      "Drive already mounted at /content/drive; to attempt to forcibly remount, call drive.mount(\"/content/drive\", force_remount=True).\n"
     ]
    }
   ],
   "source": [
    "from google.colab import drive\n",
    "drive.mount('/content/drive')"
   ]
  },
  {
   "cell_type": "code",
   "execution_count": 2,
   "metadata": {
    "id": "tEHtWqAFO0n4"
   },
   "outputs": [],
   "source": [
    "import pandas as pd"
   ]
  },
  {
   "cell_type": "code",
   "execution_count": 3,
   "metadata": {
    "id": "Nlsc99VjQJjd"
   },
   "outputs": [],
   "source": [
    "file_path = ('/content/drive/MyDrive/DATASETS/raw/activity_log_raw.csv')\n",
    "out_path = ('/test_data.csv')"
   ]
  },
  {
   "cell_type": "markdown",
   "metadata": {
    "id": "TEk06-brsPB9"
   },
   "source": [
    "**Data cleaning**"
   ]
  },
  {
   "cell_type": "code",
   "execution_count": 4,
   "metadata": {
    "id": "JKW_4xMNZf-z"
   },
   "outputs": [],
   "source": [
    "def clean_csv(file_path, output_path):\n",
    "\n",
    "    with open(file_path, \"r\", encoding=\"ISO-8859-1\", errors=\"ignore\") as infile, \\\n",
    "         open(output_path, \"w\", encoding=\"ISO-8859-1\") as outfile:\n",
    "        for line in infile:\n",
    "            # Remove null bytes and write to the cleaned file\n",
    "            cleaned_line = line.replace(\"\\0\", \"\")\n",
    "            outfile.write(cleaned_line)"
   ]
  },
  {
   "cell_type": "code",
   "execution_count": 5,
   "metadata": {
    "id": "VRo9oqdFZkf0"
   },
   "outputs": [],
   "source": [
    "clean_csv(file_path, out_path)\n",
    "data = pd.read_csv(out_path, encoding=\"ISO-8859-1\", on_bad_lines='skip', chunksize=10000)"
   ]
  },
  {
   "cell_type": "markdown",
   "metadata": {
    "id": "tjCFeQMTsV02"
   },
   "source": [
    "**Extract the column activity time and doing task 1 and task 2 in the same function**"
   ]
  },
  {
   "cell_type": "markdown",
   "metadata": {
    "id": "uH6NPw8wwQYv"
   },
   "source": [
    "*This function extract the activity time cilumn and transform it to format date time. It creates two new columns which are year and month that contains year and month. It returns the earliest date, latest date, year and month with largest number of events*"
   ]
  },
  {
   "cell_type": "code",
   "execution_count": 6,
   "metadata": {
    "id": "qFgtVLd3oSbt"
   },
   "outputs": [],
   "source": [
    "def extract_activity_time(df):\n",
    "    # Convert ACTIVITY_TIME to datetime\n",
    "    df[\"ACTIVITY_TIME\"] = pd.to_datetime(\n",
    "        df[\"ACTIVITY_TIME\"],\n",
    "        format=\"%d-%b-%y %I.%M.%S.%f %p\",\n",
    "        errors=\"coerce\"  # Invalid formats are set as NaT\n",
    "    )\n",
    "\n",
    "    # Drop rows where ACTIVITY_TIME is NaT (invalid datetime)\n",
    "    df = df.dropna(subset=[\"ACTIVITY_TIME\"])\n",
    "\n",
    "    if df.empty:\n",
    "        return {\n",
    "            \"earliest_date\": None,\n",
    "            \"latest_date\": None,\n",
    "            \"most_frequent_year\": None,\n",
    "            \"most_frequent_year_count\": None,\n",
    "            \"most_frequent_month\": None,\n",
    "            \"most_frequent_month_count\": None\n",
    "        }\n",
    "\n",
    "    # Extract Year and Month\n",
    "    df['Year'] = df['ACTIVITY_TIME'].dt.year\n",
    "    df['Month'] = df['ACTIVITY_TIME'].dt.month\n",
    "\n",
    "    # Get the year and month with the largest counts\n",
    "    year_counts = df['Year'].value_counts()\n",
    "    month_counts = df['Month'].value_counts()\n",
    "\n",
    "    most_frequent_year = year_counts.idxmax() if not year_counts.empty else None\n",
    "    most_frequent_year_count = year_counts.max() if not year_counts.empty else None\n",
    "    most_frequent_month = month_counts.idxmax() if not month_counts.empty else None\n",
    "    most_frequent_month_count = month_counts.max() if not month_counts.empty else None\n",
    "\n",
    "    # Get the earliest and latest dates\n",
    "    earliest_date = df[\"ACTIVITY_TIME\"].max()\n",
    "    latest_date = df[\"ACTIVITY_TIME\"].min()\n",
    "\n",
    "    return {\n",
    "        \"earliest_date\": earliest_date,\n",
    "        \"latest_date\": latest_date,\n",
    "        \"most_frequent_year\": most_frequent_year,\n",
    "        \"most_frequent_year_count\": most_frequent_year_count,\n",
    "        \"most_frequent_month\": most_frequent_month,\n",
    "        \"most_frequent_month_count\": most_frequent_month_count\n",
    "    }\n"
   ]
  },
  {
   "cell_type": "markdown",
   "metadata": {
    "id": "U46BkLLOxC59"
   },
   "source": [
    "**Make the return of the function in a list after transform as a dataframe**"
   ]
  },
  {
   "cell_type": "code",
   "execution_count": 7,
   "metadata": {
    "colab": {
     "base_uri": "https://localhost:8080/"
    },
    "id": "4kCxdiBKThpJ",
    "outputId": "9e507a95-7137-4755-ae4c-9511c5d9ea8c"
   },
   "outputs": [
    {
     "name": "stderr",
     "output_type": "stream",
     "text": [
      "<ipython-input-6-0d9a38f53c90>:23: SettingWithCopyWarning: \n",
      "A value is trying to be set on a copy of a slice from a DataFrame.\n",
      "Try using .loc[row_indexer,col_indexer] = value instead\n",
      "\n",
      "See the caveats in the documentation: https://pandas.pydata.org/pandas-docs/stable/user_guide/indexing.html#returning-a-view-versus-a-copy\n",
      "  df['Year'] = df['ACTIVITY_TIME'].dt.year\n",
      "<ipython-input-6-0d9a38f53c90>:24: SettingWithCopyWarning: \n",
      "A value is trying to be set on a copy of a slice from a DataFrame.\n",
      "Try using .loc[row_indexer,col_indexer] = value instead\n",
      "\n",
      "See the caveats in the documentation: https://pandas.pydata.org/pandas-docs/stable/user_guide/indexing.html#returning-a-view-versus-a-copy\n",
      "  df['Month'] = df['ACTIVITY_TIME'].dt.month\n",
      "<ipython-input-6-0d9a38f53c90>:23: SettingWithCopyWarning: \n",
      "A value is trying to be set on a copy of a slice from a DataFrame.\n",
      "Try using .loc[row_indexer,col_indexer] = value instead\n",
      "\n",
      "See the caveats in the documentation: https://pandas.pydata.org/pandas-docs/stable/user_guide/indexing.html#returning-a-view-versus-a-copy\n",
      "  df['Year'] = df['ACTIVITY_TIME'].dt.year\n",
      "<ipython-input-6-0d9a38f53c90>:24: SettingWithCopyWarning: \n",
      "A value is trying to be set on a copy of a slice from a DataFrame.\n",
      "Try using .loc[row_indexer,col_indexer] = value instead\n",
      "\n",
      "See the caveats in the documentation: https://pandas.pydata.org/pandas-docs/stable/user_guide/indexing.html#returning-a-view-versus-a-copy\n",
      "  df['Month'] = df['ACTIVITY_TIME'].dt.month\n",
      "<ipython-input-6-0d9a38f53c90>:23: SettingWithCopyWarning: \n",
      "A value is trying to be set on a copy of a slice from a DataFrame.\n",
      "Try using .loc[row_indexer,col_indexer] = value instead\n",
      "\n",
      "See the caveats in the documentation: https://pandas.pydata.org/pandas-docs/stable/user_guide/indexing.html#returning-a-view-versus-a-copy\n",
      "  df['Year'] = df['ACTIVITY_TIME'].dt.year\n",
      "<ipython-input-6-0d9a38f53c90>:24: SettingWithCopyWarning: \n",
      "A value is trying to be set on a copy of a slice from a DataFrame.\n",
      "Try using .loc[row_indexer,col_indexer] = value instead\n",
      "\n",
      "See the caveats in the documentation: https://pandas.pydata.org/pandas-docs/stable/user_guide/indexing.html#returning-a-view-versus-a-copy\n",
      "  df['Month'] = df['ACTIVITY_TIME'].dt.month\n"
     ]
    }
   ],
   "source": [
    "results = []\n",
    "for df in data:\n",
    "    results.append(extract_activity_time(df))\n",
    "\n",
    "results_df = pd.DataFrame(results)"
   ]
  },
  {
   "cell_type": "code",
   "execution_count": 8,
   "metadata": {
    "colab": {
     "base_uri": "https://localhost:8080/",
     "height": 226
    },
    "id": "NhRQhPYClE9m",
    "outputId": "9c4da6a7-b8e2-475e-da61-0721777e96be"
   },
   "outputs": [
    {
     "data": {
      "application/vnd.google.colaboratory.intrinsic+json": {
       "summary": "{\n  \"name\": \"results_df\",\n  \"rows\": 13357,\n  \"fields\": [\n    {\n      \"column\": \"earliest_date\",\n      \"properties\": {\n        \"dtype\": \"date\",\n        \"min\": \"2012-09-07 05:52:48.870000\",\n        \"max\": \"2015-04-13 22:39:00.431000\",\n        \"num_unique_values\": 10231,\n        \"samples\": [\n          \"2014-02-03 05:04:58.290000\",\n          \"2015-03-14 04:37:26.200000\",\n          \"2014-05-24 04:37:18.240000\"\n        ],\n        \"semantic_type\": \"\",\n        \"description\": \"\"\n      }\n    },\n    {\n      \"column\": \"latest_date\",\n      \"properties\": {\n        \"dtype\": \"date\",\n        \"min\": \"2012-08-15 20:01:36.621000\",\n        \"max\": \"2015-04-13 19:54:15.530000\",\n        \"num_unique_values\": 10240,\n        \"samples\": [\n          \"2013-06-24 19:47:53.010000\",\n          \"2014-01-03 21:16:55.740000\",\n          \"2013-05-06 06:25:09.790000\"\n        ],\n        \"semantic_type\": \"\",\n        \"description\": \"\"\n      }\n    },\n    {\n      \"column\": \"most_frequent_year\",\n      \"properties\": {\n        \"dtype\": \"number\",\n        \"std\": 0.7068830591064491,\n        \"min\": 2012.0,\n        \"max\": 2015.0,\n        \"num_unique_values\": 4,\n        \"samples\": [\n          2013.0,\n          2014.0,\n          2015.0\n        ],\n        \"semantic_type\": \"\",\n        \"description\": \"\"\n      }\n    },\n    {\n      \"column\": \"most_frequent_year_count\",\n      \"properties\": {\n        \"dtype\": \"number\",\n        \"std\": 180.7470335920188,\n        \"min\": 5085.0,\n        \"max\": 10000.0,\n        \"num_unique_values\": 104,\n        \"samples\": [\n          9809.0,\n          6858.0,\n          9693.0\n        ],\n        \"semantic_type\": \"\",\n        \"description\": \"\"\n      }\n    },\n    {\n      \"column\": \"most_frequent_month\",\n      \"properties\": {\n        \"dtype\": \"number\",\n        \"std\": 3.118959960358011,\n        \"min\": 1.0,\n        \"max\": 12.0,\n        \"num_unique_values\": 12,\n        \"samples\": [\n          12.0,\n          6.0,\n          4.0\n        ],\n        \"semantic_type\": \"\",\n        \"description\": \"\"\n      }\n    },\n    {\n      \"column\": \"most_frequent_month_count\",\n      \"properties\": {\n        \"dtype\": \"number\",\n        \"std\": 563.0914627467954,\n        \"min\": 4502.0,\n        \"max\": 10000.0,\n        \"num_unique_values\": 486,\n        \"samples\": [\n          9947.0,\n          8506.0,\n          6057.0\n        ],\n        \"semantic_type\": \"\",\n        \"description\": \"\"\n      }\n    }\n  ]\n}",
       "type": "dataframe",
       "variable_name": "results_df"
      },
      "text/html": [
       "\n",
       "  <div id=\"df-fba74338-d142-4c27-b5a9-c02a9245b198\" class=\"colab-df-container\">\n",
       "    <div>\n",
       "<style scoped>\n",
       "    .dataframe tbody tr th:only-of-type {\n",
       "        vertical-align: middle;\n",
       "    }\n",
       "\n",
       "    .dataframe tbody tr th {\n",
       "        vertical-align: top;\n",
       "    }\n",
       "\n",
       "    .dataframe thead th {\n",
       "        text-align: right;\n",
       "    }\n",
       "</style>\n",
       "<table border=\"1\" class=\"dataframe\">\n",
       "  <thead>\n",
       "    <tr style=\"text-align: right;\">\n",
       "      <th></th>\n",
       "      <th>earliest_date</th>\n",
       "      <th>latest_date</th>\n",
       "      <th>most_frequent_year</th>\n",
       "      <th>most_frequent_year_count</th>\n",
       "      <th>most_frequent_month</th>\n",
       "      <th>most_frequent_month_count</th>\n",
       "    </tr>\n",
       "  </thead>\n",
       "  <tbody>\n",
       "    <tr>\n",
       "      <th>0</th>\n",
       "      <td>2015-04-13 22:39:00.431</td>\n",
       "      <td>2015-04-13 19:54:15.530</td>\n",
       "      <td>2015.0</td>\n",
       "      <td>10000.0</td>\n",
       "      <td>4.0</td>\n",
       "      <td>10000.0</td>\n",
       "    </tr>\n",
       "    <tr>\n",
       "      <th>1</th>\n",
       "      <td>2015-04-13 20:02:42.360</td>\n",
       "      <td>2015-04-13 16:29:06.260</td>\n",
       "      <td>2015.0</td>\n",
       "      <td>10000.0</td>\n",
       "      <td>4.0</td>\n",
       "      <td>10000.0</td>\n",
       "    </tr>\n",
       "    <tr>\n",
       "      <th>2</th>\n",
       "      <td>2015-04-13 19:25:53.880</td>\n",
       "      <td>2015-04-13 14:01:36.230</td>\n",
       "      <td>2015.0</td>\n",
       "      <td>10000.0</td>\n",
       "      <td>4.0</td>\n",
       "      <td>10000.0</td>\n",
       "    </tr>\n",
       "    <tr>\n",
       "      <th>3</th>\n",
       "      <td>2015-04-13 16:29:06.260</td>\n",
       "      <td>2015-04-13 12:57:00.020</td>\n",
       "      <td>2015.0</td>\n",
       "      <td>10000.0</td>\n",
       "      <td>4.0</td>\n",
       "      <td>10000.0</td>\n",
       "    </tr>\n",
       "    <tr>\n",
       "      <th>4</th>\n",
       "      <td>2015-04-13 14:01:36.230</td>\n",
       "      <td>2015-04-13 12:42:40.510</td>\n",
       "      <td>2015.0</td>\n",
       "      <td>10000.0</td>\n",
       "      <td>4.0</td>\n",
       "      <td>10000.0</td>\n",
       "    </tr>\n",
       "  </tbody>\n",
       "</table>\n",
       "</div>\n",
       "    <div class=\"colab-df-buttons\">\n",
       "\n",
       "  <div class=\"colab-df-container\">\n",
       "    <button class=\"colab-df-convert\" onclick=\"convertToInteractive('df-fba74338-d142-4c27-b5a9-c02a9245b198')\"\n",
       "            title=\"Convert this dataframe to an interactive table.\"\n",
       "            style=\"display:none;\">\n",
       "\n",
       "  <svg xmlns=\"http://www.w3.org/2000/svg\" height=\"24px\" viewBox=\"0 -960 960 960\">\n",
       "    <path d=\"M120-120v-720h720v720H120Zm60-500h600v-160H180v160Zm220 220h160v-160H400v160Zm0 220h160v-160H400v160ZM180-400h160v-160H180v160Zm440 0h160v-160H620v160ZM180-180h160v-160H180v160Zm440 0h160v-160H620v160Z\"/>\n",
       "  </svg>\n",
       "    </button>\n",
       "\n",
       "  <style>\n",
       "    .colab-df-container {\n",
       "      display:flex;\n",
       "      gap: 12px;\n",
       "    }\n",
       "\n",
       "    .colab-df-convert {\n",
       "      background-color: #E8F0FE;\n",
       "      border: none;\n",
       "      border-radius: 50%;\n",
       "      cursor: pointer;\n",
       "      display: none;\n",
       "      fill: #1967D2;\n",
       "      height: 32px;\n",
       "      padding: 0 0 0 0;\n",
       "      width: 32px;\n",
       "    }\n",
       "\n",
       "    .colab-df-convert:hover {\n",
       "      background-color: #E2EBFA;\n",
       "      box-shadow: 0px 1px 2px rgba(60, 64, 67, 0.3), 0px 1px 3px 1px rgba(60, 64, 67, 0.15);\n",
       "      fill: #174EA6;\n",
       "    }\n",
       "\n",
       "    .colab-df-buttons div {\n",
       "      margin-bottom: 4px;\n",
       "    }\n",
       "\n",
       "    [theme=dark] .colab-df-convert {\n",
       "      background-color: #3B4455;\n",
       "      fill: #D2E3FC;\n",
       "    }\n",
       "\n",
       "    [theme=dark] .colab-df-convert:hover {\n",
       "      background-color: #434B5C;\n",
       "      box-shadow: 0px 1px 3px 1px rgba(0, 0, 0, 0.15);\n",
       "      filter: drop-shadow(0px 1px 2px rgba(0, 0, 0, 0.3));\n",
       "      fill: #FFFFFF;\n",
       "    }\n",
       "  </style>\n",
       "\n",
       "    <script>\n",
       "      const buttonEl =\n",
       "        document.querySelector('#df-fba74338-d142-4c27-b5a9-c02a9245b198 button.colab-df-convert');\n",
       "      buttonEl.style.display =\n",
       "        google.colab.kernel.accessAllowed ? 'block' : 'none';\n",
       "\n",
       "      async function convertToInteractive(key) {\n",
       "        const element = document.querySelector('#df-fba74338-d142-4c27-b5a9-c02a9245b198');\n",
       "        const dataTable =\n",
       "          await google.colab.kernel.invokeFunction('convertToInteractive',\n",
       "                                                    [key], {});\n",
       "        if (!dataTable) return;\n",
       "\n",
       "        const docLinkHtml = 'Like what you see? Visit the ' +\n",
       "          '<a target=\"_blank\" href=https://colab.research.google.com/notebooks/data_table.ipynb>data table notebook</a>'\n",
       "          + ' to learn more about interactive tables.';\n",
       "        element.innerHTML = '';\n",
       "        dataTable['output_type'] = 'display_data';\n",
       "        await google.colab.output.renderOutput(dataTable, element);\n",
       "        const docLink = document.createElement('div');\n",
       "        docLink.innerHTML = docLinkHtml;\n",
       "        element.appendChild(docLink);\n",
       "      }\n",
       "    </script>\n",
       "  </div>\n",
       "\n",
       "\n",
       "<div id=\"df-16599b0a-c280-48be-a0bc-7b9c64246e98\">\n",
       "  <button class=\"colab-df-quickchart\" onclick=\"quickchart('df-16599b0a-c280-48be-a0bc-7b9c64246e98')\"\n",
       "            title=\"Suggest charts\"\n",
       "            style=\"display:none;\">\n",
       "\n",
       "<svg xmlns=\"http://www.w3.org/2000/svg\" height=\"24px\"viewBox=\"0 0 24 24\"\n",
       "     width=\"24px\">\n",
       "    <g>\n",
       "        <path d=\"M19 3H5c-1.1 0-2 .9-2 2v14c0 1.1.9 2 2 2h14c1.1 0 2-.9 2-2V5c0-1.1-.9-2-2-2zM9 17H7v-7h2v7zm4 0h-2V7h2v10zm4 0h-2v-4h2v4z\"/>\n",
       "    </g>\n",
       "</svg>\n",
       "  </button>\n",
       "\n",
       "<style>\n",
       "  .colab-df-quickchart {\n",
       "      --bg-color: #E8F0FE;\n",
       "      --fill-color: #1967D2;\n",
       "      --hover-bg-color: #E2EBFA;\n",
       "      --hover-fill-color: #174EA6;\n",
       "      --disabled-fill-color: #AAA;\n",
       "      --disabled-bg-color: #DDD;\n",
       "  }\n",
       "\n",
       "  [theme=dark] .colab-df-quickchart {\n",
       "      --bg-color: #3B4455;\n",
       "      --fill-color: #D2E3FC;\n",
       "      --hover-bg-color: #434B5C;\n",
       "      --hover-fill-color: #FFFFFF;\n",
       "      --disabled-bg-color: #3B4455;\n",
       "      --disabled-fill-color: #666;\n",
       "  }\n",
       "\n",
       "  .colab-df-quickchart {\n",
       "    background-color: var(--bg-color);\n",
       "    border: none;\n",
       "    border-radius: 50%;\n",
       "    cursor: pointer;\n",
       "    display: none;\n",
       "    fill: var(--fill-color);\n",
       "    height: 32px;\n",
       "    padding: 0;\n",
       "    width: 32px;\n",
       "  }\n",
       "\n",
       "  .colab-df-quickchart:hover {\n",
       "    background-color: var(--hover-bg-color);\n",
       "    box-shadow: 0 1px 2px rgba(60, 64, 67, 0.3), 0 1px 3px 1px rgba(60, 64, 67, 0.15);\n",
       "    fill: var(--button-hover-fill-color);\n",
       "  }\n",
       "\n",
       "  .colab-df-quickchart-complete:disabled,\n",
       "  .colab-df-quickchart-complete:disabled:hover {\n",
       "    background-color: var(--disabled-bg-color);\n",
       "    fill: var(--disabled-fill-color);\n",
       "    box-shadow: none;\n",
       "  }\n",
       "\n",
       "  .colab-df-spinner {\n",
       "    border: 2px solid var(--fill-color);\n",
       "    border-color: transparent;\n",
       "    border-bottom-color: var(--fill-color);\n",
       "    animation:\n",
       "      spin 1s steps(1) infinite;\n",
       "  }\n",
       "\n",
       "  @keyframes spin {\n",
       "    0% {\n",
       "      border-color: transparent;\n",
       "      border-bottom-color: var(--fill-color);\n",
       "      border-left-color: var(--fill-color);\n",
       "    }\n",
       "    20% {\n",
       "      border-color: transparent;\n",
       "      border-left-color: var(--fill-color);\n",
       "      border-top-color: var(--fill-color);\n",
       "    }\n",
       "    30% {\n",
       "      border-color: transparent;\n",
       "      border-left-color: var(--fill-color);\n",
       "      border-top-color: var(--fill-color);\n",
       "      border-right-color: var(--fill-color);\n",
       "    }\n",
       "    40% {\n",
       "      border-color: transparent;\n",
       "      border-right-color: var(--fill-color);\n",
       "      border-top-color: var(--fill-color);\n",
       "    }\n",
       "    60% {\n",
       "      border-color: transparent;\n",
       "      border-right-color: var(--fill-color);\n",
       "    }\n",
       "    80% {\n",
       "      border-color: transparent;\n",
       "      border-right-color: var(--fill-color);\n",
       "      border-bottom-color: var(--fill-color);\n",
       "    }\n",
       "    90% {\n",
       "      border-color: transparent;\n",
       "      border-bottom-color: var(--fill-color);\n",
       "    }\n",
       "  }\n",
       "</style>\n",
       "\n",
       "  <script>\n",
       "    async function quickchart(key) {\n",
       "      const quickchartButtonEl =\n",
       "        document.querySelector('#' + key + ' button');\n",
       "      quickchartButtonEl.disabled = true;  // To prevent multiple clicks.\n",
       "      quickchartButtonEl.classList.add('colab-df-spinner');\n",
       "      try {\n",
       "        const charts = await google.colab.kernel.invokeFunction(\n",
       "            'suggestCharts', [key], {});\n",
       "      } catch (error) {\n",
       "        console.error('Error during call to suggestCharts:', error);\n",
       "      }\n",
       "      quickchartButtonEl.classList.remove('colab-df-spinner');\n",
       "      quickchartButtonEl.classList.add('colab-df-quickchart-complete');\n",
       "    }\n",
       "    (() => {\n",
       "      let quickchartButtonEl =\n",
       "        document.querySelector('#df-16599b0a-c280-48be-a0bc-7b9c64246e98 button');\n",
       "      quickchartButtonEl.style.display =\n",
       "        google.colab.kernel.accessAllowed ? 'block' : 'none';\n",
       "    })();\n",
       "  </script>\n",
       "</div>\n",
       "\n",
       "    </div>\n",
       "  </div>\n"
      ],
      "text/plain": [
       "            earliest_date             latest_date  most_frequent_year  \\\n",
       "0 2015-04-13 22:39:00.431 2015-04-13 19:54:15.530              2015.0   \n",
       "1 2015-04-13 20:02:42.360 2015-04-13 16:29:06.260              2015.0   \n",
       "2 2015-04-13 19:25:53.880 2015-04-13 14:01:36.230              2015.0   \n",
       "3 2015-04-13 16:29:06.260 2015-04-13 12:57:00.020              2015.0   \n",
       "4 2015-04-13 14:01:36.230 2015-04-13 12:42:40.510              2015.0   \n",
       "\n",
       "   most_frequent_year_count  most_frequent_month  most_frequent_month_count  \n",
       "0                   10000.0                  4.0                    10000.0  \n",
       "1                   10000.0                  4.0                    10000.0  \n",
       "2                   10000.0                  4.0                    10000.0  \n",
       "3                   10000.0                  4.0                    10000.0  \n",
       "4                   10000.0                  4.0                    10000.0  "
      ]
     },
     "execution_count": 8,
     "metadata": {},
     "output_type": "execute_result"
    }
   ],
   "source": [
    "results_df.head()"
   ]
  },
  {
   "cell_type": "markdown",
   "metadata": {
    "id": "a3R0oAQmxzrS"
   },
   "source": [
    "**Now, we can work on the dataframe, we an easily extract the earliest date, latest date , year and month with the largest number of events for the wole dataset**"
   ]
  },
  {
   "cell_type": "code",
   "execution_count": 9,
   "metadata": {
    "colab": {
     "base_uri": "https://localhost:8080/"
    },
    "id": "DYdRieQNYxi_",
    "outputId": "b323ba96-34f4-40ee-9f8b-f2bee9ff66e1"
   },
   "outputs": [
    {
     "name": "stdout",
     "output_type": "stream",
     "text": [
      "Earliest Date: 2015-04-13 22:39:00.431000\n",
      "Latest Date: 2012-08-15 20:01:36.621000\n",
      "Max Year: 2013.0\n",
      "Max Month: 3.0\n"
     ]
    }
   ],
   "source": [
    "earliest_date = results_df['earliest_date'].max()\n",
    "latest_date = results_df['latest_date'].min()\n",
    "max_year = results_df.groupby('most_frequent_year')['most_frequent_year_count'].sum().idxmax()\n",
    "max_month = results_df.groupby('most_frequent_month')['most_frequent_month_count'].sum().idxmax()\n",
    "\n",
    "\n",
    "print(\"Earliest Date:\", earliest_date)\n",
    "print(\"Latest Date:\", latest_date)\n",
    "print(\"Max Year:\", max_year)\n",
    "print(\"Max Month:\", max_month)"
   ]
  },
  {
   "cell_type": "markdown",
   "metadata": {
    "id": "QqllrnFSCfav"
   },
   "source": [
    "**Task-3. Describe what strategy you used to deal with the large size of this dataset, any challenges you faced and how you resolved them. [No more than 200 words]**"
   ]
  },
  {
   "cell_type": "markdown",
   "metadata": {
    "id": "oniK6lveMNre"
   },
   "source": [
    "1) The strategy employed to handle the large dataset was chunked processing using pandas.read_csv with the chunksize parameter. This approach divided the dataset into manageable chunks of 10,000 rows, enabling processing without exceeding memory limits. Each chunk was cleaned, processed, and analyzed independently, allowing for iterative and memory-efficient operations.\n",
    "\n",
    "2) Challenges and Solutions:\n",
    "\n",
    "- *Data Cleaning:* The dataset contained null bytes (\\0), which caused reading errors. These were resolved by preprocessing the file line by line to remove null bytes before loading the data.\n",
    "\n",
    "- *Malformed Rows:* Certain rows did not conform to the expected structure, leading to parsing issues. This was addressed by using on_bad_lines='skip', ensuring faulty rows were ignored.\n",
    "\n",
    "- *Date Parsing:* The ACTIVITY_TIME column had complex formats, making parsing challenging. Using pd.to_datetime with errors=\"coerce\" ensured invalid entries were set to NaT, preventing processing failures.\n",
    "\n",
    "- *Aggregation Across Chunks:* Combining results across chunks required consistent grouping logic. Grouping by year_month and leveraging pandas' aggregation functions provided a seamless way to find the period with the most events.\n",
    "\n",
    "This strategy balances memory efficiency with the need to derive insights from large datasets."
   ]
  },
  {
   "cell_type": "markdown",
   "metadata": {
    "id": "5EZSJY0LgBwq"
   },
   "source": [
    "# Question 2 - Standard Error of the Mean (SEM) with Bootstrapping\n"
   ]
  },
  {
   "cell_type": "markdown",
   "metadata": {
    "id": "tdZdqHcZmhbK"
   },
   "source": [
    "**Dataset:** hh_ml.zip"
   ]
  },
  {
   "cell_type": "markdown",
   "metadata": {
    "id": "7Ja_gqiMmp7P"
   },
   "source": [
    "**Task 1: Calculate the SEM for age in the dataset. Please use no less than 100 bootstrap samples for your calculation. Write a function which takes innumber of  bootstrap samples and returns the SEM.**"
   ]
  },
  {
   "cell_type": "markdown",
   "metadata": {
    "id": "_BRV1VNVpamk"
   },
   "source": [
    "**Useful librairies**"
   ]
  },
  {
   "cell_type": "code",
   "execution_count": 10,
   "metadata": {
    "id": "6IcTytA1NBK2"
   },
   "outputs": [],
   "source": [
    "import numpy as np\n",
    "import pandas as pd\n",
    "from sklearn.utils import resample\n",
    "import joblib\n",
    "from joblib import Memory\n",
    "from datetime import datetime\n",
    "from joblib import Parallel, delayed"
   ]
  },
  {
   "cell_type": "markdown",
   "metadata": {
    "id": "Wriq1MZHpTRk"
   },
   "source": [
    "**Extract the data and process**"
   ]
  },
  {
   "cell_type": "code",
   "execution_count": 11,
   "metadata": {
    "colab": {
     "base_uri": "https://localhost:8080/"
    },
    "id": "MMa-P8gAgNGN",
    "outputId": "028f5509-821e-42c0-b687-e2605bb45192"
   },
   "outputs": [
    {
     "name": "stdout",
     "output_type": "stream",
     "text": [
      "Archive:  /content/drive/MyDrive/DATASETS/raw/hh_data_ml.zip\n",
      "replace /content/hh_data_ml.csv? [y]es, [n]o, [A]ll, [N]one, [r]ename: "
     ]
    }
   ],
   "source": [
    "!unzip '/content/drive/MyDrive/DATASETS/raw/hh_data_ml.zip' -d '/content'"
   ]
  },
  {
   "cell_type": "code",
   "execution_count": 12,
   "metadata": {
    "id": "kHJXXU-WLY5E"
   },
   "outputs": [],
   "source": [
    "file_path = ('/content/hh_data_ml.csv')\n",
    "useful_col = ['P07M', 'P07A']"
   ]
  },
  {
   "cell_type": "code",
   "execution_count": 13,
   "metadata": {
    "id": "9lZ2kjT7LoeA"
   },
   "outputs": [],
   "source": [
    "dataset = pd.read_csv(file_path, sep = '|', usecols = useful_col, chunksize = 1000)"
   ]
  },
  {
   "cell_type": "markdown",
   "metadata": {
    "id": "YYfhl0d4OGrO"
   },
   "source": [
    "**Compute the age of an individual based on their birth year and month.**"
   ]
  },
  {
   "cell_type": "code",
   "execution_count": 14,
   "metadata": {
    "id": "kev47lAFM-MD"
   },
   "outputs": [],
   "source": [
    "def age(birth_data):\n",
    "    # Get the current date details\n",
    "    today = datetime.today()\n",
    "    birth_year = birth_data['P07A']\n",
    "    birth_month = birth_data['P07M']\n",
    "\n",
    "    # Start with a rough age calculation\n",
    "    years_difference = today.year - birth_year\n",
    "\n",
    "    # Check if the birth date is later in the year than today’s date\n",
    "    if today.month < birth_month:\n",
    "        years_difference -= 1\n",
    "\n",
    "    return years_difference\n"
   ]
  },
  {
   "cell_type": "markdown",
   "metadata": {
    "id": "1pRSzg2XN5MZ"
   },
   "source": [
    "**Compute an array of ages based on birth month and year columns in a DataFrame.**"
   ]
  },
  {
   "cell_type": "code",
   "execution_count": 15,
   "metadata": {
    "id": "VVOXIrRvNK9E"
   },
   "outputs": [],
   "source": [
    "def col_ages(df):\n",
    "    # Get the current year and month\n",
    "    current_date = datetime.now()\n",
    "    current_year = current_date.year\n",
    "    current_month = current_date.month\n",
    "\n",
    "    # Function to compute age for each row\n",
    "    def com_age(row):\n",
    "        year_diff = current_year - row['P07A']\n",
    "        if current_month < row['P07M']:\n",
    "            year_diff -= 1\n",
    "        return year_diff\n",
    "\n",
    "    # Calculate ages for all rows and convert to a NumPy array\n",
    "    ages = np.array(df.apply(com_age, axis=1))\n",
    "\n",
    "    return ages\n"
   ]
  },
  {
   "cell_type": "code",
   "execution_count": 16,
   "metadata": {
    "id": "yUYAlU3kN0A2"
   },
   "outputs": [],
   "source": [
    "dataset = pd.read_csv(file_path, sep = '|', usecols = useful_col, chunksize = 1000)\n",
    "# Initialize an empty Python list to store all calculated ages.\n",
    "ages_list = []\n",
    "\n",
    "# Process the data chunk by chunk to efficiently handle large datasets.\n",
    "for chunk in dataset:\n",
    "    ages_list.extend(col_ages(chunk))\n",
    "\n",
    "# Convert the list of ages to a NumPy array for further processing.\n",
    "ages = np.array(ages_list)\n"
   ]
  },
  {
   "cell_type": "markdown",
   "metadata": {
    "id": "T9pd29wwUkyC"
   },
   "source": [
    "**Perform bootstraping and compute mean**"
   ]
  },
  {
   "cell_type": "code",
   "execution_count": 17,
   "metadata": {
    "id": "-B8Xe9FCUfUC"
   },
   "outputs": [],
   "source": [
    "# Configure caching for the function\n",
    "memory = Memory(location='cache_directory', verbose=0)\n",
    "\n",
    "# Define a bootstrapping function\n",
    "@memory.cache\n",
    "def compute_stat(data, n_samples):\n",
    "    num_data_points = len(data)\n",
    "    bootstrap_means = np.empty(n_samples, dtype=np.float32)\n",
    "\n",
    "    # Perform bootstrapping and calculate means for each sample\n",
    "    for sample_idx in range(n_samples):\n",
    "        sampled_data = resample(data, n_samples=num_data_points, replace=True)\n",
    "        bootstrap_means[sample_idx] = sampled_data.mean()\n",
    "\n",
    "    return bootstrap_means\n"
   ]
  },
  {
   "cell_type": "markdown",
   "metadata": {
    "id": "jm9Haa1kUFij"
   },
   "source": [
    "**Calculate the standard deviation of bootstrap sample means using parallel processing.**"
   ]
  },
  {
   "cell_type": "code",
   "execution_count": 28,
   "metadata": {
    "id": "vW0qx2GITKUA"
   },
   "outputs": [],
   "source": [
    "from scipy.stats import sem\n",
    "\n",
    "def bootstrap(data):\n",
    "    # Number of bootstrap samples to draw in each job\n",
    "    bootstrap_sizes = [10] * 10  # List with repeated sample size\n",
    "\n",
    "    # Generate bootstrap sample means in parallel\n",
    "    bootstrap_means = Parallel(n_jobs=-1)(\n",
    "        delayed(compute_stat)(data, size) for size in bootstrap_sizes\n",
    "    )\n",
    "\n",
    "    # Return the standard deviation of the sample means\n",
    "    #return np.std(bootstrap_means, dtype=np.float64, ddof = 1) / np.sqrt(len(bootstrap_means))\n",
    "    return sem(np.append([],bootstrap_means))\n",
    "\n",
    "def execute():\n",
    "  bootstrap_std_dev = bootstrap(ages)\n",
    "\n",
    "  # Display the calculated result\n",
    "  return bootstrap_std_dev\n"
   ]
  },
  {
   "cell_type": "markdown",
   "metadata": {
    "id": "3MGx-YvrpDU2"
   },
   "source": [
    "**Use all of these functions**"
   ]
  },
  {
   "cell_type": "code",
   "execution_count": 29,
   "metadata": {
    "colab": {
     "base_uri": "https://localhost:8080/"
    },
    "id": "ID-dIm9XowP0",
    "outputId": "bc783f9d-f2f2-4cd4-9159-5d6d2ee06021"
   },
   "outputs": [
    {
     "data": {
      "text/plain": [
       "0.03922975205306812"
      ]
     },
     "execution_count": 29,
     "metadata": {},
     "output_type": "execute_result"
    }
   ],
   "source": [
    "execute()"
   ]
  },
  {
   "cell_type": "markdown",
   "metadata": {
    "id": "Ge5InXnFkWDf"
   },
   "source": [
    "**task 2: Describe what strategy you used to deal with the fact that you have to run many computations for this task as well as the challenges you faced and how you solved those challenges. [No more than 200 words]**"
   ]
  },
  {
   "cell_type": "markdown",
   "metadata": {
    "id": "StZqxle-kf6W"
   },
   "source": [
    "*- Parallel Processing:*\n",
    "\n",
    "  Used joblib.Parallel to distribute the computational workload across multiple CPU cores. This significantly reduced the execution time for generating bootstrap sample means by leveraging parallelism.\n",
    "\n",
    "*- Caching:*\n",
    "\n",
    "  Implemented caching with joblib.Memory to store results of repeated computations. This prevented recalculating identical operations and saved time by reusing previously computed results.\n",
    "\n",
    "*- Chunk Processing:*\n",
    "\n",
    "  Processed the data in smaller chunks to manage large datasets efficiently. This approach helped prevent memory overload and allowed for better management of system resources.\n",
    "\n",
    "*- Memory Management:*\n",
    "\n",
    "  Initially, I faced memory inefficiency using np.append to add results iteratively. I solved this by accumulating results in Python lists and only converting them into NumPy arrays after all computations were complete, improving memory handling.\n",
    "\n",
    "*- Efficient Data Types:*\n",
    "\n",
    "  To optimize memory usage, I used float32 for the bootstrap sample means instead of float64, which balanced memory consumption and computation accuracy."
   ]
  },
  {
   "cell_type": "markdown",
   "metadata": {
    "id": "S7SAlEZPy5ZJ"
   },
   "source": [
    "# Question 3 - Weather Forecast for All Capital Cities in Africa\n"
   ]
  },
  {
   "cell_type": "code",
   "execution_count": 30,
   "metadata": {
    "id": "qKTP7wvUjJKr"
   },
   "outputs": [],
   "source": [
    "import requests\n",
    "import json\n",
    "import pandas as pd"
   ]
  },
  {
   "cell_type": "markdown",
   "metadata": {
    "id": "etv7vv9fPgs5"
   },
   "source": [
    "**Import dataset**"
   ]
  },
  {
   "cell_type": "code",
   "execution_count": 31,
   "metadata": {
    "id": "lyfU5iddzM2R"
   },
   "outputs": [],
   "source": [
    "file_path_africa_dataset = ('/content/drive/MyDrive/DATASETS/raw/Africa_Cities.csv')"
   ]
  },
  {
   "cell_type": "code",
   "execution_count": 32,
   "metadata": {
    "id": "AGIHia180aLe"
   },
   "outputs": [],
   "source": [
    "# Load Africa Cities dataset\n",
    "\n",
    "africa_dataset = pd.read_csv(file_path_africa_dataset)"
   ]
  },
  {
   "cell_type": "markdown",
   "metadata": {
    "id": "NINMJ91TQT1Y"
   },
   "source": [
    "**Filter the city column and the country column**"
   ]
  },
  {
   "cell_type": "code",
   "execution_count": 33,
   "metadata": {
    "id": "BvDi7XsG5tr5"
   },
   "outputs": [],
   "source": [
    "# Filter relevant columns\n",
    "\n",
    "filtered_cities = africa_dataset[['CITY_NAME', 'CNTRY_NAME']].drop_duplicates()\n",
    "list_city = filtered_cities['CITY_NAME'].tolist()\n",
    "list_country = filtered_cities['CNTRY_NAME'].tolist()"
   ]
  },
  {
   "cell_type": "markdown",
   "metadata": {
    "id": "GU549VQbQjmJ"
   },
   "source": [
    "**Define API key and the base url**"
   ]
  },
  {
   "cell_type": "code",
   "execution_count": 34,
   "metadata": {
    "id": "vyoPyjDM1HMe"
   },
   "outputs": [],
   "source": [
    "# My API KEY\n",
    "\n",
    "API_KEY = 'f34edc75d372db75fb38555fd2a061d6'\n",
    "base_url = 'http://api.openweathermap.org/data/2.5/'\n"
   ]
  },
  {
   "cell_type": "markdown",
   "metadata": {
    "id": "QUY4bL12QqZz"
   },
   "source": [
    "**fetch_weather function is a function that take city and country as input, fetch the date concerning the weather in the website correspond to the city and country in africa cities.**"
   ]
  },
  {
   "cell_type": "code",
   "execution_count": 35,
   "metadata": {
    "id": "wgjonhdjKoM3"
   },
   "outputs": [],
   "source": [
    "def fetch_weather(city, country):\n",
    "  response = requests.get(f\"{base_url}forecast?q={city},{country}&APPID={API_KEY}&units=metric\") # Corrected to use the corrected base URL\n",
    "  if response.status_code == 200:\n",
    "        data = response.json()\n",
    "        for forecast in data.get('list', []):\n",
    "          forecast_date = datetime.utcfromtimestamp(forecast['dt']).strftime('%Y-%m-%d')\n",
    "          if forecast_date == '2025-01-13':\n",
    "            return {\n",
    "                    'Country': country,\n",
    "                    'City': city,\n",
    "                    'Date': forecast_date,\n",
    "                    'Time': datetime.utcfromtimestamp(forecast['dt']).strftime('%H:%M:%S'),\n",
    "                    'Weather_main': forecast['weather'][0]['main'],\n",
    "                    'Temp': forecast['main']['temp'],\n",
    "                    'Temp_min': forecast['main']['temp_min'],\n",
    "                    'Temp_max': forecast['main']['temp_max'],\n",
    "                    'Humidity': forecast['main']['humidity'],\n",
    "                    'Clouds': forecast['clouds']['all']\n",
    "                }\n",
    "  else:\n",
    "    print(f\"Error fetching weather data for {city}, {country}: {response.status_code}\")\n",
    "  return {}"
   ]
  },
  {
   "cell_type": "code",
   "execution_count": 36,
   "metadata": {
    "colab": {
     "base_uri": "https://localhost:8080/"
    },
    "id": "8QDPTPLf0P5h",
    "outputId": "0cd5dd63-bdba-4603-cda9-013c46f96cc4"
   },
   "outputs": [
    {
     "data": {
      "text/plain": [
       "{'Country': 'Ghana',\n",
       " 'City': 'Accra',\n",
       " 'Date': '2025-01-13',\n",
       " 'Time': '00:00:00',\n",
       " 'Weather_main': 'Clouds',\n",
       " 'Temp': 27.97,\n",
       " 'Temp_min': 27.44,\n",
       " 'Temp_max': 27.97,\n",
       " 'Humidity': 81,\n",
       " 'Clouds': 21}"
      ]
     },
     "execution_count": 36,
     "metadata": {},
     "output_type": "execute_result"
    }
   ],
   "source": [
    "fetch_weather(\"Accra\", \"Ghana\")"
   ]
  },
  {
   "cell_type": "markdown",
   "metadata": {
    "id": "SpaxbLCsRf-H"
   },
   "source": [
    "**Create a list that store the infos about the weather and make it as a dataframe**"
   ]
  },
  {
   "cell_type": "code",
   "execution_count": 37,
   "metadata": {
    "colab": {
     "base_uri": "https://localhost:8080/"
    },
    "id": "58MyzObtMe3v",
    "outputId": "67f224a4-1981-457f-cd9a-5d4deb693cea"
   },
   "outputs": [
    {
     "name": "stdout",
     "output_type": "stream",
     "text": [
      "Error fetching weather data for Fderik, Mauritania: 404\n",
      "Error fetching weather data for Sidi-Bel-Abbes, Algeria: 404\n",
      "Error fetching weather data for Tidjikdja, Mauritania: 404\n",
      "Error fetching weather data for Tingrela, Cote d'Ivoire: 404\n",
      "Error fetching weather data for Mbahiakro, Cote d'Ivoire: 404\n",
      "Error fetching weather data for Grand Lahou, Cote d'Ivoire: 404\n",
      "Error fetching weather data for Ghardina, Algeria: 404\n",
      "Error fetching weather data for Tbessa, Algeria: 404\n",
      "Error fetching weather data for Medemine, Tunisia: 404\n",
      "Error fetching weather data for L'Ariana, Tunisia: 404\n",
      "Error fetching weather data for Sdid Bouzid, Tunisia: 404\n",
      "Error fetching weather data for Monasir, Tunisia: 404\n",
      "Error fetching weather data for El Minya, Egypt: 404\n",
      "Error fetching weather data for El-Kharga, Egypt: 404\n",
      "Error fetching weather data for Dumyat, Egypt: 404\n",
      "Error fetching weather data for Kafr el Sheikh, Egypt: 404\n",
      "Error fetching weather data for El Mansura, Egypt: 404\n",
      "Error fetching weather data for Shibin el Kom, Egypt: 404\n",
      "Error fetching weather data for El Faiyum, Egypt: 404\n",
      "Error fetching weather data for Abu Zenima, Egypt: 404\n",
      "Error fetching weather data for El Tur, Egypt: 404\n",
      "Error fetching weather data for Zagizig, Egypt: 404\n",
      "Error fetching weather data for Benha, Egypt: 404\n",
      "Error fetching weather data for Al Ghurdaqah, Egypt: 404\n",
      "Error fetching weather data for El'Arish, Egypt: 404\n",
      "Error fetching weather data for Nek'emte, Ethiopia: 404\n",
      "Error fetching weather data for Asela, Ethiopia: 404\n",
      "Error fetching weather data for Garbahaarey, Somalia: 404\n",
      "Error fetching weather data for Dhuusa Mareeb, Somalia: 404\n",
      "Error fetching weather data for Mocambique, Mozambique: 404\n",
      "Error fetching weather data for Ngunza, Angola: 404\n",
      "Error fetching weather data for Kaulomoutou, Gabon: 404\n",
      "Error fetching weather data for Pointe Noire, Congo: 404\n",
      "Error fetching weather data for Onjiva, Angola: 404\n",
      "Error fetching weather data for Lumumbashi, Congo, DRC: 404\n",
      "Error fetching weather data for Karusi, Burundi: 404\n",
      "Error fetching weather data for Buluko, Congo, DRC: 404\n",
      "Error fetching weather data for Mkoani, Tanzania: 404\n",
      "Error fetching weather data for MMabatho (Mafikeng), South Africa: 404\n",
      "Error fetching weather data for Pietersburg (Polokwane), South Africa: 404\n",
      "Error fetching weather data for Pietermaritzburg (Ulundi), South Africa: 404\n"
     ]
    }
   ],
   "source": [
    "df = []\n",
    "for city, country in zip(list_city, list_country):\n",
    "  dataframe = df.append(fetch_weather(city, country))"
   ]
  },
  {
   "cell_type": "code",
   "execution_count": 38,
   "metadata": {
    "id": "3bOMFo-S1Ich"
   },
   "outputs": [],
   "source": [
    "filename = 'weather_data.csv'\n",
    "\n",
    "col_df = [\"Country\", \"City\", \"Date\", \"Time\", \"Weather_main\", \"Temp\", \"Temp_min\", \"Temp_max\", \"Humidity\", \"Clouds\"]\n",
    "df = pd.DataFrame(df, columns = col_df)\n",
    "df.to_csv(filename, index=False)"
   ]
  },
  {
   "cell_type": "code",
   "execution_count": 39,
   "metadata": {
    "colab": {
     "base_uri": "https://localhost:8080/",
     "height": 226
    },
    "id": "_MFlrZ673OWm",
    "outputId": "6ace4ea9-9969-4173-fda2-0b7f7ad61b60"
   },
   "outputs": [
    {
     "data": {
      "application/vnd.google.colaboratory.intrinsic+json": {
       "summary": "{\n  \"name\": \"weather_data\",\n  \"rows\": 638,\n  \"fields\": [\n    {\n      \"column\": \"Country\",\n      \"properties\": {\n        \"dtype\": \"category\",\n        \"num_unique_values\": 59,\n        \"samples\": [\n          \"St. Helena\",\n          \"Algeria\",\n          \"Sudan\"\n        ],\n        \"semantic_type\": \"\",\n        \"description\": \"\"\n      }\n    },\n    {\n      \"column\": \"City\",\n      \"properties\": {\n        \"dtype\": \"string\",\n        \"num_unique_values\": 597,\n        \"samples\": [\n          \"Tabou\",\n          \"Sumbawanga\",\n          \"Man\"\n        ],\n        \"semantic_type\": \"\",\n        \"description\": \"\"\n      }\n    },\n    {\n      \"column\": \"Date\",\n      \"properties\": {\n        \"dtype\": \"object\",\n        \"num_unique_values\": 1,\n        \"samples\": [\n          \"2025-01-13\"\n        ],\n        \"semantic_type\": \"\",\n        \"description\": \"\"\n      }\n    },\n    {\n      \"column\": \"Time\",\n      \"properties\": {\n        \"dtype\": \"object\",\n        \"num_unique_values\": 1,\n        \"samples\": [\n          \"00:00:00\"\n        ],\n        \"semantic_type\": \"\",\n        \"description\": \"\"\n      }\n    },\n    {\n      \"column\": \"Weather_main\",\n      \"properties\": {\n        \"dtype\": \"category\",\n        \"num_unique_values\": 4,\n        \"samples\": [\n          \"Clear\"\n        ],\n        \"semantic_type\": \"\",\n        \"description\": \"\"\n      }\n    },\n    {\n      \"column\": \"Temp\",\n      \"properties\": {\n        \"dtype\": \"number\",\n        \"std\": 6.05622257027735,\n        \"min\": -11.53,\n        \"max\": 29.38,\n        \"num_unique_values\": 506,\n        \"samples\": [\n          18.04\n        ],\n        \"semantic_type\": \"\",\n        \"description\": \"\"\n      }\n    },\n    {\n      \"column\": \"Temp_min\",\n      \"properties\": {\n        \"dtype\": \"number\",\n        \"std\": 5.910729817262077,\n        \"min\": -13.08,\n        \"max\": 27.74,\n        \"num_unique_values\": 499,\n        \"samples\": [\n          13.93\n        ],\n        \"semantic_type\": \"\",\n        \"description\": \"\"\n      }\n    },\n    {\n      \"column\": \"Temp_max\",\n      \"properties\": {\n        \"dtype\": \"number\",\n        \"std\": 6.029442946548238,\n        \"min\": -11.53,\n        \"max\": 29.38,\n        \"num_unique_values\": 511,\n        \"samples\": [\n          21.56\n        ],\n        \"semantic_type\": \"\",\n        \"description\": \"\"\n      }\n    },\n    {\n      \"column\": \"Humidity\",\n      \"properties\": {\n        \"dtype\": \"number\",\n        \"std\": 28.771392778125563,\n        \"min\": 10.0,\n        \"max\": 99.0,\n        \"num_unique_values\": 87,\n        \"samples\": [\n          60.0\n        ],\n        \"semantic_type\": \"\",\n        \"description\": \"\"\n      }\n    },\n    {\n      \"column\": \"Clouds\",\n      \"properties\": {\n        \"dtype\": \"number\",\n        \"std\": 37.033177190615135,\n        \"min\": 0.0,\n        \"max\": 100.0,\n        \"num_unique_values\": 99,\n        \"samples\": [\n          21.0\n        ],\n        \"semantic_type\": \"\",\n        \"description\": \"\"\n      }\n    }\n  ]\n}",
       "type": "dataframe",
       "variable_name": "weather_data"
      },
      "text/html": [
       "\n",
       "  <div id=\"df-049b9921-940d-4f33-8474-3523f8e99173\" class=\"colab-df-container\">\n",
       "    <div>\n",
       "<style scoped>\n",
       "    .dataframe tbody tr th:only-of-type {\n",
       "        vertical-align: middle;\n",
       "    }\n",
       "\n",
       "    .dataframe tbody tr th {\n",
       "        vertical-align: top;\n",
       "    }\n",
       "\n",
       "    .dataframe thead th {\n",
       "        text-align: right;\n",
       "    }\n",
       "</style>\n",
       "<table border=\"1\" class=\"dataframe\">\n",
       "  <thead>\n",
       "    <tr style=\"text-align: right;\">\n",
       "      <th></th>\n",
       "      <th>Country</th>\n",
       "      <th>City</th>\n",
       "      <th>Date</th>\n",
       "      <th>Time</th>\n",
       "      <th>Weather_main</th>\n",
       "      <th>Temp</th>\n",
       "      <th>Temp_min</th>\n",
       "      <th>Temp_max</th>\n",
       "      <th>Humidity</th>\n",
       "      <th>Clouds</th>\n",
       "    </tr>\n",
       "  </thead>\n",
       "  <tbody>\n",
       "    <tr>\n",
       "      <th>0</th>\n",
       "      <td>St. Helena</td>\n",
       "      <td>Jamestown</td>\n",
       "      <td>2025-01-13</td>\n",
       "      <td>00:00:00</td>\n",
       "      <td>Clouds</td>\n",
       "      <td>-1.86</td>\n",
       "      <td>-3.54</td>\n",
       "      <td>-1.86</td>\n",
       "      <td>81.0</td>\n",
       "      <td>83.0</td>\n",
       "    </tr>\n",
       "    <tr>\n",
       "      <th>1</th>\n",
       "      <td>Cape Verde</td>\n",
       "      <td>Praia</td>\n",
       "      <td>2025-01-13</td>\n",
       "      <td>00:00:00</td>\n",
       "      <td>Clear</td>\n",
       "      <td>23.07</td>\n",
       "      <td>22.61</td>\n",
       "      <td>23.07</td>\n",
       "      <td>67.0</td>\n",
       "      <td>0.0</td>\n",
       "    </tr>\n",
       "    <tr>\n",
       "      <th>2</th>\n",
       "      <td>Spain</td>\n",
       "      <td>Santa Cruz de Tenerife</td>\n",
       "      <td>2025-01-13</td>\n",
       "      <td>00:00:00</td>\n",
       "      <td>Rain</td>\n",
       "      <td>18.64</td>\n",
       "      <td>17.99</td>\n",
       "      <td>18.64</td>\n",
       "      <td>73.0</td>\n",
       "      <td>76.0</td>\n",
       "    </tr>\n",
       "    <tr>\n",
       "      <th>3</th>\n",
       "      <td>Spain</td>\n",
       "      <td>Las Palmas</td>\n",
       "      <td>2025-01-13</td>\n",
       "      <td>00:00:00</td>\n",
       "      <td>Clouds</td>\n",
       "      <td>17.15</td>\n",
       "      <td>16.56</td>\n",
       "      <td>17.15</td>\n",
       "      <td>75.0</td>\n",
       "      <td>61.0</td>\n",
       "    </tr>\n",
       "    <tr>\n",
       "      <th>4</th>\n",
       "      <td>Portugal</td>\n",
       "      <td>Funchal</td>\n",
       "      <td>2025-01-13</td>\n",
       "      <td>00:00:00</td>\n",
       "      <td>Clouds</td>\n",
       "      <td>18.76</td>\n",
       "      <td>17.32</td>\n",
       "      <td>18.76</td>\n",
       "      <td>88.0</td>\n",
       "      <td>61.0</td>\n",
       "    </tr>\n",
       "  </tbody>\n",
       "</table>\n",
       "</div>\n",
       "    <div class=\"colab-df-buttons\">\n",
       "\n",
       "  <div class=\"colab-df-container\">\n",
       "    <button class=\"colab-df-convert\" onclick=\"convertToInteractive('df-049b9921-940d-4f33-8474-3523f8e99173')\"\n",
       "            title=\"Convert this dataframe to an interactive table.\"\n",
       "            style=\"display:none;\">\n",
       "\n",
       "  <svg xmlns=\"http://www.w3.org/2000/svg\" height=\"24px\" viewBox=\"0 -960 960 960\">\n",
       "    <path d=\"M120-120v-720h720v720H120Zm60-500h600v-160H180v160Zm220 220h160v-160H400v160Zm0 220h160v-160H400v160ZM180-400h160v-160H180v160Zm440 0h160v-160H620v160ZM180-180h160v-160H180v160Zm440 0h160v-160H620v160Z\"/>\n",
       "  </svg>\n",
       "    </button>\n",
       "\n",
       "  <style>\n",
       "    .colab-df-container {\n",
       "      display:flex;\n",
       "      gap: 12px;\n",
       "    }\n",
       "\n",
       "    .colab-df-convert {\n",
       "      background-color: #E8F0FE;\n",
       "      border: none;\n",
       "      border-radius: 50%;\n",
       "      cursor: pointer;\n",
       "      display: none;\n",
       "      fill: #1967D2;\n",
       "      height: 32px;\n",
       "      padding: 0 0 0 0;\n",
       "      width: 32px;\n",
       "    }\n",
       "\n",
       "    .colab-df-convert:hover {\n",
       "      background-color: #E2EBFA;\n",
       "      box-shadow: 0px 1px 2px rgba(60, 64, 67, 0.3), 0px 1px 3px 1px rgba(60, 64, 67, 0.15);\n",
       "      fill: #174EA6;\n",
       "    }\n",
       "\n",
       "    .colab-df-buttons div {\n",
       "      margin-bottom: 4px;\n",
       "    }\n",
       "\n",
       "    [theme=dark] .colab-df-convert {\n",
       "      background-color: #3B4455;\n",
       "      fill: #D2E3FC;\n",
       "    }\n",
       "\n",
       "    [theme=dark] .colab-df-convert:hover {\n",
       "      background-color: #434B5C;\n",
       "      box-shadow: 0px 1px 3px 1px rgba(0, 0, 0, 0.15);\n",
       "      filter: drop-shadow(0px 1px 2px rgba(0, 0, 0, 0.3));\n",
       "      fill: #FFFFFF;\n",
       "    }\n",
       "  </style>\n",
       "\n",
       "    <script>\n",
       "      const buttonEl =\n",
       "        document.querySelector('#df-049b9921-940d-4f33-8474-3523f8e99173 button.colab-df-convert');\n",
       "      buttonEl.style.display =\n",
       "        google.colab.kernel.accessAllowed ? 'block' : 'none';\n",
       "\n",
       "      async function convertToInteractive(key) {\n",
       "        const element = document.querySelector('#df-049b9921-940d-4f33-8474-3523f8e99173');\n",
       "        const dataTable =\n",
       "          await google.colab.kernel.invokeFunction('convertToInteractive',\n",
       "                                                    [key], {});\n",
       "        if (!dataTable) return;\n",
       "\n",
       "        const docLinkHtml = 'Like what you see? Visit the ' +\n",
       "          '<a target=\"_blank\" href=https://colab.research.google.com/notebooks/data_table.ipynb>data table notebook</a>'\n",
       "          + ' to learn more about interactive tables.';\n",
       "        element.innerHTML = '';\n",
       "        dataTable['output_type'] = 'display_data';\n",
       "        await google.colab.output.renderOutput(dataTable, element);\n",
       "        const docLink = document.createElement('div');\n",
       "        docLink.innerHTML = docLinkHtml;\n",
       "        element.appendChild(docLink);\n",
       "      }\n",
       "    </script>\n",
       "  </div>\n",
       "\n",
       "\n",
       "<div id=\"df-94cae094-f725-4edc-a1f6-0da65dbf57b4\">\n",
       "  <button class=\"colab-df-quickchart\" onclick=\"quickchart('df-94cae094-f725-4edc-a1f6-0da65dbf57b4')\"\n",
       "            title=\"Suggest charts\"\n",
       "            style=\"display:none;\">\n",
       "\n",
       "<svg xmlns=\"http://www.w3.org/2000/svg\" height=\"24px\"viewBox=\"0 0 24 24\"\n",
       "     width=\"24px\">\n",
       "    <g>\n",
       "        <path d=\"M19 3H5c-1.1 0-2 .9-2 2v14c0 1.1.9 2 2 2h14c1.1 0 2-.9 2-2V5c0-1.1-.9-2-2-2zM9 17H7v-7h2v7zm4 0h-2V7h2v10zm4 0h-2v-4h2v4z\"/>\n",
       "    </g>\n",
       "</svg>\n",
       "  </button>\n",
       "\n",
       "<style>\n",
       "  .colab-df-quickchart {\n",
       "      --bg-color: #E8F0FE;\n",
       "      --fill-color: #1967D2;\n",
       "      --hover-bg-color: #E2EBFA;\n",
       "      --hover-fill-color: #174EA6;\n",
       "      --disabled-fill-color: #AAA;\n",
       "      --disabled-bg-color: #DDD;\n",
       "  }\n",
       "\n",
       "  [theme=dark] .colab-df-quickchart {\n",
       "      --bg-color: #3B4455;\n",
       "      --fill-color: #D2E3FC;\n",
       "      --hover-bg-color: #434B5C;\n",
       "      --hover-fill-color: #FFFFFF;\n",
       "      --disabled-bg-color: #3B4455;\n",
       "      --disabled-fill-color: #666;\n",
       "  }\n",
       "\n",
       "  .colab-df-quickchart {\n",
       "    background-color: var(--bg-color);\n",
       "    border: none;\n",
       "    border-radius: 50%;\n",
       "    cursor: pointer;\n",
       "    display: none;\n",
       "    fill: var(--fill-color);\n",
       "    height: 32px;\n",
       "    padding: 0;\n",
       "    width: 32px;\n",
       "  }\n",
       "\n",
       "  .colab-df-quickchart:hover {\n",
       "    background-color: var(--hover-bg-color);\n",
       "    box-shadow: 0 1px 2px rgba(60, 64, 67, 0.3), 0 1px 3px 1px rgba(60, 64, 67, 0.15);\n",
       "    fill: var(--button-hover-fill-color);\n",
       "  }\n",
       "\n",
       "  .colab-df-quickchart-complete:disabled,\n",
       "  .colab-df-quickchart-complete:disabled:hover {\n",
       "    background-color: var(--disabled-bg-color);\n",
       "    fill: var(--disabled-fill-color);\n",
       "    box-shadow: none;\n",
       "  }\n",
       "\n",
       "  .colab-df-spinner {\n",
       "    border: 2px solid var(--fill-color);\n",
       "    border-color: transparent;\n",
       "    border-bottom-color: var(--fill-color);\n",
       "    animation:\n",
       "      spin 1s steps(1) infinite;\n",
       "  }\n",
       "\n",
       "  @keyframes spin {\n",
       "    0% {\n",
       "      border-color: transparent;\n",
       "      border-bottom-color: var(--fill-color);\n",
       "      border-left-color: var(--fill-color);\n",
       "    }\n",
       "    20% {\n",
       "      border-color: transparent;\n",
       "      border-left-color: var(--fill-color);\n",
       "      border-top-color: var(--fill-color);\n",
       "    }\n",
       "    30% {\n",
       "      border-color: transparent;\n",
       "      border-left-color: var(--fill-color);\n",
       "      border-top-color: var(--fill-color);\n",
       "      border-right-color: var(--fill-color);\n",
       "    }\n",
       "    40% {\n",
       "      border-color: transparent;\n",
       "      border-right-color: var(--fill-color);\n",
       "      border-top-color: var(--fill-color);\n",
       "    }\n",
       "    60% {\n",
       "      border-color: transparent;\n",
       "      border-right-color: var(--fill-color);\n",
       "    }\n",
       "    80% {\n",
       "      border-color: transparent;\n",
       "      border-right-color: var(--fill-color);\n",
       "      border-bottom-color: var(--fill-color);\n",
       "    }\n",
       "    90% {\n",
       "      border-color: transparent;\n",
       "      border-bottom-color: var(--fill-color);\n",
       "    }\n",
       "  }\n",
       "</style>\n",
       "\n",
       "  <script>\n",
       "    async function quickchart(key) {\n",
       "      const quickchartButtonEl =\n",
       "        document.querySelector('#' + key + ' button');\n",
       "      quickchartButtonEl.disabled = true;  // To prevent multiple clicks.\n",
       "      quickchartButtonEl.classList.add('colab-df-spinner');\n",
       "      try {\n",
       "        const charts = await google.colab.kernel.invokeFunction(\n",
       "            'suggestCharts', [key], {});\n",
       "      } catch (error) {\n",
       "        console.error('Error during call to suggestCharts:', error);\n",
       "      }\n",
       "      quickchartButtonEl.classList.remove('colab-df-spinner');\n",
       "      quickchartButtonEl.classList.add('colab-df-quickchart-complete');\n",
       "    }\n",
       "    (() => {\n",
       "      let quickchartButtonEl =\n",
       "        document.querySelector('#df-94cae094-f725-4edc-a1f6-0da65dbf57b4 button');\n",
       "      quickchartButtonEl.style.display =\n",
       "        google.colab.kernel.accessAllowed ? 'block' : 'none';\n",
       "    })();\n",
       "  </script>\n",
       "</div>\n",
       "\n",
       "    </div>\n",
       "  </div>\n"
      ],
      "text/plain": [
       "      Country                    City        Date      Time Weather_main  \\\n",
       "0  St. Helena               Jamestown  2025-01-13  00:00:00       Clouds   \n",
       "1  Cape Verde                   Praia  2025-01-13  00:00:00        Clear   \n",
       "2       Spain  Santa Cruz de Tenerife  2025-01-13  00:00:00         Rain   \n",
       "3       Spain              Las Palmas  2025-01-13  00:00:00       Clouds   \n",
       "4    Portugal                 Funchal  2025-01-13  00:00:00       Clouds   \n",
       "\n",
       "    Temp  Temp_min  Temp_max  Humidity  Clouds  \n",
       "0  -1.86     -3.54     -1.86      81.0    83.0  \n",
       "1  23.07     22.61     23.07      67.0     0.0  \n",
       "2  18.64     17.99     18.64      73.0    76.0  \n",
       "3  17.15     16.56     17.15      75.0    61.0  \n",
       "4  18.76     17.32     18.76      88.0    61.0  "
      ]
     },
     "execution_count": 39,
     "metadata": {},
     "output_type": "execute_result"
    }
   ],
   "source": [
    "weather_data = pd.read_csv(filename)\n",
    "weather_data.head()"
   ]
  }
 ],
 "metadata": {
  "colab": {
   "collapsed_sections": [
    "GopZILewbHek",
    "5EZSJY0LgBwq"
   ],
   "provenance": []
  },
  "kernelspec": {
   "display_name": "Python 3",
   "language": "python",
   "name": "python3"
  },
  "language_info": {
   "codemirror_mode": {
    "name": "ipython",
    "version": 3
   },
   "file_extension": ".py",
   "mimetype": "text/x-python",
   "name": "python",
   "nbconvert_exporter": "python",
   "pygments_lexer": "ipython3",
   "version": "3.9.2"
  }
 },
 "nbformat": 4,
 "nbformat_minor": 1
}
